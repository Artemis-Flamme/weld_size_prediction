{
  "nbformat": 4,
  "nbformat_minor": 0,
  "metadata": {
    "colab": {
      "provenance": []
    },
    "kernelspec": {
      "name": "python3",
      "display_name": "Python 3"
    },
    "language_info": {
      "name": "python"
    }
  },
  "cells": [
    {
      "cell_type": "markdown",
      "source": [
        "#Практический кейс\n",
        "#«Прогнозирование размеров сварного шва при электронно-лучевой сварке тонкостенных конструкций аэрокосмического назначения»"
      ],
      "metadata": {
        "id": "f7B7-MGIyWL2"
      }
    },
    {
      "cell_type": "markdown",
      "source": [
        "**Задача**:\n",
        "Решить задачу регрессии (одним или несколькими методами) для предсказания глубины и ширины сварного соединения, выполнив необходимые этапы (разведочный анализ, предобработка)"
      ],
      "metadata": {
        "id": "DEKAsTpq8HjE"
      }
    },
    {
      "cell_type": "markdown",
      "source": [
        "###Импорт библиотек"
      ],
      "metadata": {
        "id": "gKA-OS6GYWsx"
      }
    },
    {
      "cell_type": "code",
      "source": [
        "#импорт библиотек для работы\n",
        "import pandas as pd\n",
        "import numpy as np\n",
        "import seaborn as sns\n",
        "import matplotlib.pyplot as plt\n",
        "import tensorflow\n",
        "import sklearn\n",
        "from sklearn.metrics import mean_squared_error, r2_score\n",
        "\n",
        "!pip install tabulate\n",
        "!pip install catboost\n",
        "%matplotlib inline"
      ],
      "metadata": {
        "id": "7HNOth40YoUK",
        "colab": {
          "base_uri": "https://localhost:8080/"
        },
        "outputId": "efce4815-1b65-40bf-c4da-3f6d58a9c74d"
      },
      "execution_count": 305,
      "outputs": [
        {
          "output_type": "stream",
          "name": "stdout",
          "text": [
            "Requirement already satisfied: tabulate in /usr/local/lib/python3.10/dist-packages (0.9.0)\n",
            "Requirement already satisfied: catboost in /usr/local/lib/python3.10/dist-packages (1.2.7)\n",
            "Requirement already satisfied: graphviz in /usr/local/lib/python3.10/dist-packages (from catboost) (0.20.3)\n",
            "Requirement already satisfied: matplotlib in /usr/local/lib/python3.10/dist-packages (from catboost) (3.7.1)\n",
            "Requirement already satisfied: numpy<2.0,>=1.16.0 in /usr/local/lib/python3.10/dist-packages (from catboost) (1.26.4)\n",
            "Requirement already satisfied: pandas>=0.24 in /usr/local/lib/python3.10/dist-packages (from catboost) (2.2.2)\n",
            "Requirement already satisfied: scipy in /usr/local/lib/python3.10/dist-packages (from catboost) (1.13.1)\n",
            "Requirement already satisfied: plotly in /usr/local/lib/python3.10/dist-packages (from catboost) (5.24.1)\n",
            "Requirement already satisfied: six in /usr/local/lib/python3.10/dist-packages (from catboost) (1.16.0)\n",
            "Requirement already satisfied: python-dateutil>=2.8.2 in /usr/local/lib/python3.10/dist-packages (from pandas>=0.24->catboost) (2.8.2)\n",
            "Requirement already satisfied: pytz>=2020.1 in /usr/local/lib/python3.10/dist-packages (from pandas>=0.24->catboost) (2024.2)\n",
            "Requirement already satisfied: tzdata>=2022.7 in /usr/local/lib/python3.10/dist-packages (from pandas>=0.24->catboost) (2024.2)\n",
            "Requirement already satisfied: contourpy>=1.0.1 in /usr/local/lib/python3.10/dist-packages (from matplotlib->catboost) (1.3.0)\n",
            "Requirement already satisfied: cycler>=0.10 in /usr/local/lib/python3.10/dist-packages (from matplotlib->catboost) (0.12.1)\n",
            "Requirement already satisfied: fonttools>=4.22.0 in /usr/local/lib/python3.10/dist-packages (from matplotlib->catboost) (4.54.1)\n",
            "Requirement already satisfied: kiwisolver>=1.0.1 in /usr/local/lib/python3.10/dist-packages (from matplotlib->catboost) (1.4.7)\n",
            "Requirement already satisfied: packaging>=20.0 in /usr/local/lib/python3.10/dist-packages (from matplotlib->catboost) (24.1)\n",
            "Requirement already satisfied: pillow>=6.2.0 in /usr/local/lib/python3.10/dist-packages (from matplotlib->catboost) (10.4.0)\n",
            "Requirement already satisfied: pyparsing>=2.3.1 in /usr/local/lib/python3.10/dist-packages (from matplotlib->catboost) (3.2.0)\n",
            "Requirement already satisfied: tenacity>=6.2.0 in /usr/local/lib/python3.10/dist-packages (from plotly->catboost) (9.0.0)\n"
          ]
        }
      ]
    },
    {
      "cell_type": "markdown",
      "source": [
        "###Загрузка датасета с GitHub"
      ],
      "metadata": {
        "id": "hynvuqFLGBNw"
      }
    },
    {
      "cell_type": "code",
      "source": [
        "#загрузка данных\n",
        "url = 'https://raw.githubusercontent.com/Artemis-Flamme/weld_size_prediction/refs/heads/main/ebw_data.csv'\n",
        "df = pd.read_csv(url)"
      ],
      "metadata": {
        "id": "iYftxV-LYsIP"
      },
      "execution_count": 306,
      "outputs": []
    },
    {
      "cell_type": "markdown",
      "source": [
        "Выполним pipeline для решения задачи регрессии:\n",
        "1. EDA\n",
        "2. POC\n",
        "3. Modeling\n",
        "4. Evaluation"
      ],
      "metadata": {
        "id": "HjaaLu7M1SqV"
      }
    },
    {
      "cell_type": "markdown",
      "source": [
        "#Разведочный анализ данных"
      ],
      "metadata": {
        "id": "NhwhQJzL8eUe"
      }
    },
    {
      "cell_type": "markdown",
      "source": [
        "##Проверка загруженной таблицы"
      ],
      "metadata": {
        "id": "WtGa5fd682qh"
      }
    },
    {
      "cell_type": "code",
      "source": [
        "#основная информация о данных\n",
        "df.head()"
      ],
      "metadata": {
        "colab": {
          "base_uri": "https://localhost:8080/",
          "height": 0
        },
        "id": "eQ5Hg6__8303",
        "outputId": "8ced2ffd-2551-44a8-953c-6171466f8083"
      },
      "execution_count": 307,
      "outputs": [
        {
          "output_type": "execute_result",
          "data": {
            "text/plain": [
              "   IW   IF   VW  FP  Depth  Width\n",
              "0  47  139  4.5  80   1.60   2.54\n",
              "1  47  139  4.5  80   1.62   2.50\n",
              "2  47  139  4.5  80   1.68   2.60\n",
              "3  47  139  4.5  80   1.58   2.52\n",
              "4  45  140  4.5  80   1.76   2.48"
            ],
            "text/html": [
              "\n",
              "  <div id=\"df-a9027285-31ea-4b3d-ada1-c4228c44705f\" class=\"colab-df-container\">\n",
              "    <div>\n",
              "<style scoped>\n",
              "    .dataframe tbody tr th:only-of-type {\n",
              "        vertical-align: middle;\n",
              "    }\n",
              "\n",
              "    .dataframe tbody tr th {\n",
              "        vertical-align: top;\n",
              "    }\n",
              "\n",
              "    .dataframe thead th {\n",
              "        text-align: right;\n",
              "    }\n",
              "</style>\n",
              "<table border=\"1\" class=\"dataframe\">\n",
              "  <thead>\n",
              "    <tr style=\"text-align: right;\">\n",
              "      <th></th>\n",
              "      <th>IW</th>\n",
              "      <th>IF</th>\n",
              "      <th>VW</th>\n",
              "      <th>FP</th>\n",
              "      <th>Depth</th>\n",
              "      <th>Width</th>\n",
              "    </tr>\n",
              "  </thead>\n",
              "  <tbody>\n",
              "    <tr>\n",
              "      <th>0</th>\n",
              "      <td>47</td>\n",
              "      <td>139</td>\n",
              "      <td>4.5</td>\n",
              "      <td>80</td>\n",
              "      <td>1.60</td>\n",
              "      <td>2.54</td>\n",
              "    </tr>\n",
              "    <tr>\n",
              "      <th>1</th>\n",
              "      <td>47</td>\n",
              "      <td>139</td>\n",
              "      <td>4.5</td>\n",
              "      <td>80</td>\n",
              "      <td>1.62</td>\n",
              "      <td>2.50</td>\n",
              "    </tr>\n",
              "    <tr>\n",
              "      <th>2</th>\n",
              "      <td>47</td>\n",
              "      <td>139</td>\n",
              "      <td>4.5</td>\n",
              "      <td>80</td>\n",
              "      <td>1.68</td>\n",
              "      <td>2.60</td>\n",
              "    </tr>\n",
              "    <tr>\n",
              "      <th>3</th>\n",
              "      <td>47</td>\n",
              "      <td>139</td>\n",
              "      <td>4.5</td>\n",
              "      <td>80</td>\n",
              "      <td>1.58</td>\n",
              "      <td>2.52</td>\n",
              "    </tr>\n",
              "    <tr>\n",
              "      <th>4</th>\n",
              "      <td>45</td>\n",
              "      <td>140</td>\n",
              "      <td>4.5</td>\n",
              "      <td>80</td>\n",
              "      <td>1.76</td>\n",
              "      <td>2.48</td>\n",
              "    </tr>\n",
              "  </tbody>\n",
              "</table>\n",
              "</div>\n",
              "    <div class=\"colab-df-buttons\">\n",
              "\n",
              "  <div class=\"colab-df-container\">\n",
              "    <button class=\"colab-df-convert\" onclick=\"convertToInteractive('df-a9027285-31ea-4b3d-ada1-c4228c44705f')\"\n",
              "            title=\"Convert this dataframe to an interactive table.\"\n",
              "            style=\"display:none;\">\n",
              "\n",
              "  <svg xmlns=\"http://www.w3.org/2000/svg\" height=\"24px\" viewBox=\"0 -960 960 960\">\n",
              "    <path d=\"M120-120v-720h720v720H120Zm60-500h600v-160H180v160Zm220 220h160v-160H400v160Zm0 220h160v-160H400v160ZM180-400h160v-160H180v160Zm440 0h160v-160H620v160ZM180-180h160v-160H180v160Zm440 0h160v-160H620v160Z\"/>\n",
              "  </svg>\n",
              "    </button>\n",
              "\n",
              "  <style>\n",
              "    .colab-df-container {\n",
              "      display:flex;\n",
              "      gap: 12px;\n",
              "    }\n",
              "\n",
              "    .colab-df-convert {\n",
              "      background-color: #E8F0FE;\n",
              "      border: none;\n",
              "      border-radius: 50%;\n",
              "      cursor: pointer;\n",
              "      display: none;\n",
              "      fill: #1967D2;\n",
              "      height: 32px;\n",
              "      padding: 0 0 0 0;\n",
              "      width: 32px;\n",
              "    }\n",
              "\n",
              "    .colab-df-convert:hover {\n",
              "      background-color: #E2EBFA;\n",
              "      box-shadow: 0px 1px 2px rgba(60, 64, 67, 0.3), 0px 1px 3px 1px rgba(60, 64, 67, 0.15);\n",
              "      fill: #174EA6;\n",
              "    }\n",
              "\n",
              "    .colab-df-buttons div {\n",
              "      margin-bottom: 4px;\n",
              "    }\n",
              "\n",
              "    [theme=dark] .colab-df-convert {\n",
              "      background-color: #3B4455;\n",
              "      fill: #D2E3FC;\n",
              "    }\n",
              "\n",
              "    [theme=dark] .colab-df-convert:hover {\n",
              "      background-color: #434B5C;\n",
              "      box-shadow: 0px 1px 3px 1px rgba(0, 0, 0, 0.15);\n",
              "      filter: drop-shadow(0px 1px 2px rgba(0, 0, 0, 0.3));\n",
              "      fill: #FFFFFF;\n",
              "    }\n",
              "  </style>\n",
              "\n",
              "    <script>\n",
              "      const buttonEl =\n",
              "        document.querySelector('#df-a9027285-31ea-4b3d-ada1-c4228c44705f button.colab-df-convert');\n",
              "      buttonEl.style.display =\n",
              "        google.colab.kernel.accessAllowed ? 'block' : 'none';\n",
              "\n",
              "      async function convertToInteractive(key) {\n",
              "        const element = document.querySelector('#df-a9027285-31ea-4b3d-ada1-c4228c44705f');\n",
              "        const dataTable =\n",
              "          await google.colab.kernel.invokeFunction('convertToInteractive',\n",
              "                                                    [key], {});\n",
              "        if (!dataTable) return;\n",
              "\n",
              "        const docLinkHtml = 'Like what you see? Visit the ' +\n",
              "          '<a target=\"_blank\" href=https://colab.research.google.com/notebooks/data_table.ipynb>data table notebook</a>'\n",
              "          + ' to learn more about interactive tables.';\n",
              "        element.innerHTML = '';\n",
              "        dataTable['output_type'] = 'display_data';\n",
              "        await google.colab.output.renderOutput(dataTable, element);\n",
              "        const docLink = document.createElement('div');\n",
              "        docLink.innerHTML = docLinkHtml;\n",
              "        element.appendChild(docLink);\n",
              "      }\n",
              "    </script>\n",
              "  </div>\n",
              "\n",
              "\n",
              "<div id=\"df-170b409b-316a-4bfa-86e1-7d33af57e0c0\">\n",
              "  <button class=\"colab-df-quickchart\" onclick=\"quickchart('df-170b409b-316a-4bfa-86e1-7d33af57e0c0')\"\n",
              "            title=\"Suggest charts\"\n",
              "            style=\"display:none;\">\n",
              "\n",
              "<svg xmlns=\"http://www.w3.org/2000/svg\" height=\"24px\"viewBox=\"0 0 24 24\"\n",
              "     width=\"24px\">\n",
              "    <g>\n",
              "        <path d=\"M19 3H5c-1.1 0-2 .9-2 2v14c0 1.1.9 2 2 2h14c1.1 0 2-.9 2-2V5c0-1.1-.9-2-2-2zM9 17H7v-7h2v7zm4 0h-2V7h2v10zm4 0h-2v-4h2v4z\"/>\n",
              "    </g>\n",
              "</svg>\n",
              "  </button>\n",
              "\n",
              "<style>\n",
              "  .colab-df-quickchart {\n",
              "      --bg-color: #E8F0FE;\n",
              "      --fill-color: #1967D2;\n",
              "      --hover-bg-color: #E2EBFA;\n",
              "      --hover-fill-color: #174EA6;\n",
              "      --disabled-fill-color: #AAA;\n",
              "      --disabled-bg-color: #DDD;\n",
              "  }\n",
              "\n",
              "  [theme=dark] .colab-df-quickchart {\n",
              "      --bg-color: #3B4455;\n",
              "      --fill-color: #D2E3FC;\n",
              "      --hover-bg-color: #434B5C;\n",
              "      --hover-fill-color: #FFFFFF;\n",
              "      --disabled-bg-color: #3B4455;\n",
              "      --disabled-fill-color: #666;\n",
              "  }\n",
              "\n",
              "  .colab-df-quickchart {\n",
              "    background-color: var(--bg-color);\n",
              "    border: none;\n",
              "    border-radius: 50%;\n",
              "    cursor: pointer;\n",
              "    display: none;\n",
              "    fill: var(--fill-color);\n",
              "    height: 32px;\n",
              "    padding: 0;\n",
              "    width: 32px;\n",
              "  }\n",
              "\n",
              "  .colab-df-quickchart:hover {\n",
              "    background-color: var(--hover-bg-color);\n",
              "    box-shadow: 0 1px 2px rgba(60, 64, 67, 0.3), 0 1px 3px 1px rgba(60, 64, 67, 0.15);\n",
              "    fill: var(--button-hover-fill-color);\n",
              "  }\n",
              "\n",
              "  .colab-df-quickchart-complete:disabled,\n",
              "  .colab-df-quickchart-complete:disabled:hover {\n",
              "    background-color: var(--disabled-bg-color);\n",
              "    fill: var(--disabled-fill-color);\n",
              "    box-shadow: none;\n",
              "  }\n",
              "\n",
              "  .colab-df-spinner {\n",
              "    border: 2px solid var(--fill-color);\n",
              "    border-color: transparent;\n",
              "    border-bottom-color: var(--fill-color);\n",
              "    animation:\n",
              "      spin 1s steps(1) infinite;\n",
              "  }\n",
              "\n",
              "  @keyframes spin {\n",
              "    0% {\n",
              "      border-color: transparent;\n",
              "      border-bottom-color: var(--fill-color);\n",
              "      border-left-color: var(--fill-color);\n",
              "    }\n",
              "    20% {\n",
              "      border-color: transparent;\n",
              "      border-left-color: var(--fill-color);\n",
              "      border-top-color: var(--fill-color);\n",
              "    }\n",
              "    30% {\n",
              "      border-color: transparent;\n",
              "      border-left-color: var(--fill-color);\n",
              "      border-top-color: var(--fill-color);\n",
              "      border-right-color: var(--fill-color);\n",
              "    }\n",
              "    40% {\n",
              "      border-color: transparent;\n",
              "      border-right-color: var(--fill-color);\n",
              "      border-top-color: var(--fill-color);\n",
              "    }\n",
              "    60% {\n",
              "      border-color: transparent;\n",
              "      border-right-color: var(--fill-color);\n",
              "    }\n",
              "    80% {\n",
              "      border-color: transparent;\n",
              "      border-right-color: var(--fill-color);\n",
              "      border-bottom-color: var(--fill-color);\n",
              "    }\n",
              "    90% {\n",
              "      border-color: transparent;\n",
              "      border-bottom-color: var(--fill-color);\n",
              "    }\n",
              "  }\n",
              "</style>\n",
              "\n",
              "  <script>\n",
              "    async function quickchart(key) {\n",
              "      const quickchartButtonEl =\n",
              "        document.querySelector('#' + key + ' button');\n",
              "      quickchartButtonEl.disabled = true;  // To prevent multiple clicks.\n",
              "      quickchartButtonEl.classList.add('colab-df-spinner');\n",
              "      try {\n",
              "        const charts = await google.colab.kernel.invokeFunction(\n",
              "            'suggestCharts', [key], {});\n",
              "      } catch (error) {\n",
              "        console.error('Error during call to suggestCharts:', error);\n",
              "      }\n",
              "      quickchartButtonEl.classList.remove('colab-df-spinner');\n",
              "      quickchartButtonEl.classList.add('colab-df-quickchart-complete');\n",
              "    }\n",
              "    (() => {\n",
              "      let quickchartButtonEl =\n",
              "        document.querySelector('#df-170b409b-316a-4bfa-86e1-7d33af57e0c0 button');\n",
              "      quickchartButtonEl.style.display =\n",
              "        google.colab.kernel.accessAllowed ? 'block' : 'none';\n",
              "    })();\n",
              "  </script>\n",
              "</div>\n",
              "    </div>\n",
              "  </div>\n"
            ],
            "application/vnd.google.colaboratory.intrinsic+json": {
              "type": "dataframe",
              "variable_name": "df",
              "summary": "{\n  \"name\": \"df\",\n  \"rows\": 72,\n  \"fields\": [\n    {\n      \"column\": \"IW\",\n      \"properties\": {\n        \"dtype\": \"number\",\n        \"std\": 1,\n        \"min\": 43,\n        \"max\": 49,\n        \"num_unique_values\": 7,\n        \"samples\": [\n          47,\n          45,\n          44\n        ],\n        \"semantic_type\": \"\",\n        \"description\": \"\"\n      }\n    },\n    {\n      \"column\": \"IF\",\n      \"properties\": {\n        \"dtype\": \"number\",\n        \"std\": 5,\n        \"min\": 131,\n        \"max\": 150,\n        \"num_unique_values\": 8,\n        \"samples\": [\n          140,\n          132,\n          139\n        ],\n        \"semantic_type\": \"\",\n        \"description\": \"\"\n      }\n    },\n    {\n      \"column\": \"VW\",\n      \"properties\": {\n        \"dtype\": \"number\",\n        \"std\": 2.061078314491313,\n        \"min\": 4.5,\n        \"max\": 12.0,\n        \"num_unique_values\": 5,\n        \"samples\": [\n          8.0,\n          9.0,\n          10.0\n        ],\n        \"semantic_type\": \"\",\n        \"description\": \"\"\n      }\n    },\n    {\n      \"column\": \"FP\",\n      \"properties\": {\n        \"dtype\": \"number\",\n        \"std\": 21,\n        \"min\": 50,\n        \"max\": 125,\n        \"num_unique_values\": 5,\n        \"samples\": [\n          110,\n          50,\n          125\n        ],\n        \"semantic_type\": \"\",\n        \"description\": \"\"\n      }\n    },\n    {\n      \"column\": \"Depth\",\n      \"properties\": {\n        \"dtype\": \"number\",\n        \"std\": 0.2250814493509862,\n        \"min\": 0.8,\n        \"max\": 1.76,\n        \"num_unique_values\": 29,\n        \"samples\": [\n          1.24,\n          0.92,\n          1.0\n        ],\n        \"semantic_type\": \"\",\n        \"description\": \"\"\n      }\n    },\n    {\n      \"column\": \"Width\",\n      \"properties\": {\n        \"dtype\": \"number\",\n        \"std\": 0.2790397896812427,\n        \"min\": 1.68,\n        \"max\": 2.6,\n        \"num_unique_values\": 25,\n        \"samples\": [\n          1.84,\n          1.94,\n          2.54\n        ],\n        \"semantic_type\": \"\",\n        \"description\": \"\"\n      }\n    }\n  ]\n}"
            }
          },
          "metadata": {},
          "execution_count": 307
        }
      ]
    },
    {
      "cell_type": "code",
      "source": [
        "df.columns"
      ],
      "metadata": {
        "colab": {
          "base_uri": "https://localhost:8080/"
        },
        "id": "gGypGHf0liOe",
        "outputId": "7990b916-7cf4-470c-b735-4a593853895f"
      },
      "execution_count": 308,
      "outputs": [
        {
          "output_type": "execute_result",
          "data": {
            "text/plain": [
              "Index(['IW', 'IF', 'VW', 'FP', 'Depth', 'Width'], dtype='object')"
            ]
          },
          "metadata": {},
          "execution_count": 308
        }
      ]
    },
    {
      "cell_type": "markdown",
      "source": [
        "Расшифровка:\n",
        "1. Снижалась величина сварочного тока (IW);\n",
        "2. Увеличивался ток фокусировки электронного пучка (IF);\n",
        "3. Увеличивалась скорость сварки (VW);\n",
        "4. Менялось расстояние от поверхности образцов до электронно-оптической\n",
        "системы (FP);\n",
        "5. Глубина шва (Depth);\n",
        "6. Ширина шва (Width)."
      ],
      "metadata": {
        "id": "iwP32m1Jt1s3"
      }
    },
    {
      "cell_type": "markdown",
      "source": [
        "##Изучение характеристик таблицы и её столбцов"
      ],
      "metadata": {
        "id": "Ixyi9CmM9C-0"
      }
    },
    {
      "cell_type": "code",
      "source": [
        "df.info()"
      ],
      "metadata": {
        "colab": {
          "base_uri": "https://localhost:8080/"
        },
        "id": "LlnIQqo8q-46",
        "outputId": "5be804eb-c3da-4b81-ca07-e593069be572"
      },
      "execution_count": 309,
      "outputs": [
        {
          "output_type": "stream",
          "name": "stdout",
          "text": [
            "<class 'pandas.core.frame.DataFrame'>\n",
            "RangeIndex: 72 entries, 0 to 71\n",
            "Data columns (total 6 columns):\n",
            " #   Column  Non-Null Count  Dtype  \n",
            "---  ------  --------------  -----  \n",
            " 0   IW      72 non-null     int64  \n",
            " 1   IF      72 non-null     int64  \n",
            " 2   VW      72 non-null     float64\n",
            " 3   FP      72 non-null     int64  \n",
            " 4   Depth   72 non-null     float64\n",
            " 5   Width   72 non-null     float64\n",
            "dtypes: float64(3), int64(3)\n",
            "memory usage: 3.5 KB\n"
          ]
        }
      ]
    },
    {
      "cell_type": "markdown",
      "source": [
        "Можно заметить, что столбцы в наборе имеют разный числовой формат. Для удобства и корректности расчётов все столбцы нужно будет преобразвать в float64."
      ],
      "metadata": {
        "id": "veosCo51V3Iq"
      }
    },
    {
      "cell_type": "code",
      "source": [
        "df.tail()"
      ],
      "metadata": {
        "colab": {
          "base_uri": "https://localhost:8080/",
          "height": 206
        },
        "id": "glAONsRHl4No",
        "outputId": "a6dc355d-626a-41a1-97c9-7d975bc0300d"
      },
      "execution_count": 310,
      "outputs": [
        {
          "output_type": "execute_result",
          "data": {
            "text/plain": [
              "    IW   IF   VW  FP  Depth  Width\n",
              "67  44  146  9.0  60   1.20   1.72\n",
              "68  45  146  9.0  60   1.36   1.76\n",
              "69  45  146  9.0  60   1.28   1.76\n",
              "70  45  146  9.0  60   1.28   1.76\n",
              "71  45  146  9.0  60   1.32   1.76"
            ],
            "text/html": [
              "\n",
              "  <div id=\"df-c8b20827-81c5-4c95-9bed-593964b0e3de\" class=\"colab-df-container\">\n",
              "    <div>\n",
              "<style scoped>\n",
              "    .dataframe tbody tr th:only-of-type {\n",
              "        vertical-align: middle;\n",
              "    }\n",
              "\n",
              "    .dataframe tbody tr th {\n",
              "        vertical-align: top;\n",
              "    }\n",
              "\n",
              "    .dataframe thead th {\n",
              "        text-align: right;\n",
              "    }\n",
              "</style>\n",
              "<table border=\"1\" class=\"dataframe\">\n",
              "  <thead>\n",
              "    <tr style=\"text-align: right;\">\n",
              "      <th></th>\n",
              "      <th>IW</th>\n",
              "      <th>IF</th>\n",
              "      <th>VW</th>\n",
              "      <th>FP</th>\n",
              "      <th>Depth</th>\n",
              "      <th>Width</th>\n",
              "    </tr>\n",
              "  </thead>\n",
              "  <tbody>\n",
              "    <tr>\n",
              "      <th>67</th>\n",
              "      <td>44</td>\n",
              "      <td>146</td>\n",
              "      <td>9.0</td>\n",
              "      <td>60</td>\n",
              "      <td>1.20</td>\n",
              "      <td>1.72</td>\n",
              "    </tr>\n",
              "    <tr>\n",
              "      <th>68</th>\n",
              "      <td>45</td>\n",
              "      <td>146</td>\n",
              "      <td>9.0</td>\n",
              "      <td>60</td>\n",
              "      <td>1.36</td>\n",
              "      <td>1.76</td>\n",
              "    </tr>\n",
              "    <tr>\n",
              "      <th>69</th>\n",
              "      <td>45</td>\n",
              "      <td>146</td>\n",
              "      <td>9.0</td>\n",
              "      <td>60</td>\n",
              "      <td>1.28</td>\n",
              "      <td>1.76</td>\n",
              "    </tr>\n",
              "    <tr>\n",
              "      <th>70</th>\n",
              "      <td>45</td>\n",
              "      <td>146</td>\n",
              "      <td>9.0</td>\n",
              "      <td>60</td>\n",
              "      <td>1.28</td>\n",
              "      <td>1.76</td>\n",
              "    </tr>\n",
              "    <tr>\n",
              "      <th>71</th>\n",
              "      <td>45</td>\n",
              "      <td>146</td>\n",
              "      <td>9.0</td>\n",
              "      <td>60</td>\n",
              "      <td>1.32</td>\n",
              "      <td>1.76</td>\n",
              "    </tr>\n",
              "  </tbody>\n",
              "</table>\n",
              "</div>\n",
              "    <div class=\"colab-df-buttons\">\n",
              "\n",
              "  <div class=\"colab-df-container\">\n",
              "    <button class=\"colab-df-convert\" onclick=\"convertToInteractive('df-c8b20827-81c5-4c95-9bed-593964b0e3de')\"\n",
              "            title=\"Convert this dataframe to an interactive table.\"\n",
              "            style=\"display:none;\">\n",
              "\n",
              "  <svg xmlns=\"http://www.w3.org/2000/svg\" height=\"24px\" viewBox=\"0 -960 960 960\">\n",
              "    <path d=\"M120-120v-720h720v720H120Zm60-500h600v-160H180v160Zm220 220h160v-160H400v160Zm0 220h160v-160H400v160ZM180-400h160v-160H180v160Zm440 0h160v-160H620v160ZM180-180h160v-160H180v160Zm440 0h160v-160H620v160Z\"/>\n",
              "  </svg>\n",
              "    </button>\n",
              "\n",
              "  <style>\n",
              "    .colab-df-container {\n",
              "      display:flex;\n",
              "      gap: 12px;\n",
              "    }\n",
              "\n",
              "    .colab-df-convert {\n",
              "      background-color: #E8F0FE;\n",
              "      border: none;\n",
              "      border-radius: 50%;\n",
              "      cursor: pointer;\n",
              "      display: none;\n",
              "      fill: #1967D2;\n",
              "      height: 32px;\n",
              "      padding: 0 0 0 0;\n",
              "      width: 32px;\n",
              "    }\n",
              "\n",
              "    .colab-df-convert:hover {\n",
              "      background-color: #E2EBFA;\n",
              "      box-shadow: 0px 1px 2px rgba(60, 64, 67, 0.3), 0px 1px 3px 1px rgba(60, 64, 67, 0.15);\n",
              "      fill: #174EA6;\n",
              "    }\n",
              "\n",
              "    .colab-df-buttons div {\n",
              "      margin-bottom: 4px;\n",
              "    }\n",
              "\n",
              "    [theme=dark] .colab-df-convert {\n",
              "      background-color: #3B4455;\n",
              "      fill: #D2E3FC;\n",
              "    }\n",
              "\n",
              "    [theme=dark] .colab-df-convert:hover {\n",
              "      background-color: #434B5C;\n",
              "      box-shadow: 0px 1px 3px 1px rgba(0, 0, 0, 0.15);\n",
              "      filter: drop-shadow(0px 1px 2px rgba(0, 0, 0, 0.3));\n",
              "      fill: #FFFFFF;\n",
              "    }\n",
              "  </style>\n",
              "\n",
              "    <script>\n",
              "      const buttonEl =\n",
              "        document.querySelector('#df-c8b20827-81c5-4c95-9bed-593964b0e3de button.colab-df-convert');\n",
              "      buttonEl.style.display =\n",
              "        google.colab.kernel.accessAllowed ? 'block' : 'none';\n",
              "\n",
              "      async function convertToInteractive(key) {\n",
              "        const element = document.querySelector('#df-c8b20827-81c5-4c95-9bed-593964b0e3de');\n",
              "        const dataTable =\n",
              "          await google.colab.kernel.invokeFunction('convertToInteractive',\n",
              "                                                    [key], {});\n",
              "        if (!dataTable) return;\n",
              "\n",
              "        const docLinkHtml = 'Like what you see? Visit the ' +\n",
              "          '<a target=\"_blank\" href=https://colab.research.google.com/notebooks/data_table.ipynb>data table notebook</a>'\n",
              "          + ' to learn more about interactive tables.';\n",
              "        element.innerHTML = '';\n",
              "        dataTable['output_type'] = 'display_data';\n",
              "        await google.colab.output.renderOutput(dataTable, element);\n",
              "        const docLink = document.createElement('div');\n",
              "        docLink.innerHTML = docLinkHtml;\n",
              "        element.appendChild(docLink);\n",
              "      }\n",
              "    </script>\n",
              "  </div>\n",
              "\n",
              "\n",
              "<div id=\"df-26ae896c-4670-4df3-8cfe-204ef07ded3c\">\n",
              "  <button class=\"colab-df-quickchart\" onclick=\"quickchart('df-26ae896c-4670-4df3-8cfe-204ef07ded3c')\"\n",
              "            title=\"Suggest charts\"\n",
              "            style=\"display:none;\">\n",
              "\n",
              "<svg xmlns=\"http://www.w3.org/2000/svg\" height=\"24px\"viewBox=\"0 0 24 24\"\n",
              "     width=\"24px\">\n",
              "    <g>\n",
              "        <path d=\"M19 3H5c-1.1 0-2 .9-2 2v14c0 1.1.9 2 2 2h14c1.1 0 2-.9 2-2V5c0-1.1-.9-2-2-2zM9 17H7v-7h2v7zm4 0h-2V7h2v10zm4 0h-2v-4h2v4z\"/>\n",
              "    </g>\n",
              "</svg>\n",
              "  </button>\n",
              "\n",
              "<style>\n",
              "  .colab-df-quickchart {\n",
              "      --bg-color: #E8F0FE;\n",
              "      --fill-color: #1967D2;\n",
              "      --hover-bg-color: #E2EBFA;\n",
              "      --hover-fill-color: #174EA6;\n",
              "      --disabled-fill-color: #AAA;\n",
              "      --disabled-bg-color: #DDD;\n",
              "  }\n",
              "\n",
              "  [theme=dark] .colab-df-quickchart {\n",
              "      --bg-color: #3B4455;\n",
              "      --fill-color: #D2E3FC;\n",
              "      --hover-bg-color: #434B5C;\n",
              "      --hover-fill-color: #FFFFFF;\n",
              "      --disabled-bg-color: #3B4455;\n",
              "      --disabled-fill-color: #666;\n",
              "  }\n",
              "\n",
              "  .colab-df-quickchart {\n",
              "    background-color: var(--bg-color);\n",
              "    border: none;\n",
              "    border-radius: 50%;\n",
              "    cursor: pointer;\n",
              "    display: none;\n",
              "    fill: var(--fill-color);\n",
              "    height: 32px;\n",
              "    padding: 0;\n",
              "    width: 32px;\n",
              "  }\n",
              "\n",
              "  .colab-df-quickchart:hover {\n",
              "    background-color: var(--hover-bg-color);\n",
              "    box-shadow: 0 1px 2px rgba(60, 64, 67, 0.3), 0 1px 3px 1px rgba(60, 64, 67, 0.15);\n",
              "    fill: var(--button-hover-fill-color);\n",
              "  }\n",
              "\n",
              "  .colab-df-quickchart-complete:disabled,\n",
              "  .colab-df-quickchart-complete:disabled:hover {\n",
              "    background-color: var(--disabled-bg-color);\n",
              "    fill: var(--disabled-fill-color);\n",
              "    box-shadow: none;\n",
              "  }\n",
              "\n",
              "  .colab-df-spinner {\n",
              "    border: 2px solid var(--fill-color);\n",
              "    border-color: transparent;\n",
              "    border-bottom-color: var(--fill-color);\n",
              "    animation:\n",
              "      spin 1s steps(1) infinite;\n",
              "  }\n",
              "\n",
              "  @keyframes spin {\n",
              "    0% {\n",
              "      border-color: transparent;\n",
              "      border-bottom-color: var(--fill-color);\n",
              "      border-left-color: var(--fill-color);\n",
              "    }\n",
              "    20% {\n",
              "      border-color: transparent;\n",
              "      border-left-color: var(--fill-color);\n",
              "      border-top-color: var(--fill-color);\n",
              "    }\n",
              "    30% {\n",
              "      border-color: transparent;\n",
              "      border-left-color: var(--fill-color);\n",
              "      border-top-color: var(--fill-color);\n",
              "      border-right-color: var(--fill-color);\n",
              "    }\n",
              "    40% {\n",
              "      border-color: transparent;\n",
              "      border-right-color: var(--fill-color);\n",
              "      border-top-color: var(--fill-color);\n",
              "    }\n",
              "    60% {\n",
              "      border-color: transparent;\n",
              "      border-right-color: var(--fill-color);\n",
              "    }\n",
              "    80% {\n",
              "      border-color: transparent;\n",
              "      border-right-color: var(--fill-color);\n",
              "      border-bottom-color: var(--fill-color);\n",
              "    }\n",
              "    90% {\n",
              "      border-color: transparent;\n",
              "      border-bottom-color: var(--fill-color);\n",
              "    }\n",
              "  }\n",
              "</style>\n",
              "\n",
              "  <script>\n",
              "    async function quickchart(key) {\n",
              "      const quickchartButtonEl =\n",
              "        document.querySelector('#' + key + ' button');\n",
              "      quickchartButtonEl.disabled = true;  // To prevent multiple clicks.\n",
              "      quickchartButtonEl.classList.add('colab-df-spinner');\n",
              "      try {\n",
              "        const charts = await google.colab.kernel.invokeFunction(\n",
              "            'suggestCharts', [key], {});\n",
              "      } catch (error) {\n",
              "        console.error('Error during call to suggestCharts:', error);\n",
              "      }\n",
              "      quickchartButtonEl.classList.remove('colab-df-spinner');\n",
              "      quickchartButtonEl.classList.add('colab-df-quickchart-complete');\n",
              "    }\n",
              "    (() => {\n",
              "      let quickchartButtonEl =\n",
              "        document.querySelector('#df-26ae896c-4670-4df3-8cfe-204ef07ded3c button');\n",
              "      quickchartButtonEl.style.display =\n",
              "        google.colab.kernel.accessAllowed ? 'block' : 'none';\n",
              "    })();\n",
              "  </script>\n",
              "</div>\n",
              "    </div>\n",
              "  </div>\n"
            ],
            "application/vnd.google.colaboratory.intrinsic+json": {
              "type": "dataframe",
              "summary": "{\n  \"name\": \"df\",\n  \"rows\": 5,\n  \"fields\": [\n    {\n      \"column\": \"IW\",\n      \"properties\": {\n        \"dtype\": \"number\",\n        \"std\": 0,\n        \"min\": 44,\n        \"max\": 45,\n        \"num_unique_values\": 2,\n        \"samples\": [\n          45,\n          44\n        ],\n        \"semantic_type\": \"\",\n        \"description\": \"\"\n      }\n    },\n    {\n      \"column\": \"IF\",\n      \"properties\": {\n        \"dtype\": \"number\",\n        \"std\": 0,\n        \"min\": 146,\n        \"max\": 146,\n        \"num_unique_values\": 1,\n        \"samples\": [\n          146\n        ],\n        \"semantic_type\": \"\",\n        \"description\": \"\"\n      }\n    },\n    {\n      \"column\": \"VW\",\n      \"properties\": {\n        \"dtype\": \"number\",\n        \"std\": 0.0,\n        \"min\": 9.0,\n        \"max\": 9.0,\n        \"num_unique_values\": 1,\n        \"samples\": [\n          9.0\n        ],\n        \"semantic_type\": \"\",\n        \"description\": \"\"\n      }\n    },\n    {\n      \"column\": \"FP\",\n      \"properties\": {\n        \"dtype\": \"number\",\n        \"std\": 0,\n        \"min\": 60,\n        \"max\": 60,\n        \"num_unique_values\": 1,\n        \"samples\": [\n          60\n        ],\n        \"semantic_type\": \"\",\n        \"description\": \"\"\n      }\n    },\n    {\n      \"column\": \"Depth\",\n      \"properties\": {\n        \"dtype\": \"number\",\n        \"std\": 0.05932958789676535,\n        \"min\": 1.2,\n        \"max\": 1.36,\n        \"num_unique_values\": 4,\n        \"samples\": [\n          1.36\n        ],\n        \"semantic_type\": \"\",\n        \"description\": \"\"\n      }\n    },\n    {\n      \"column\": \"Width\",\n      \"properties\": {\n        \"dtype\": \"number\",\n        \"std\": 0.017888543819998333,\n        \"min\": 1.72,\n        \"max\": 1.76,\n        \"num_unique_values\": 2,\n        \"samples\": [\n          1.76\n        ],\n        \"semantic_type\": \"\",\n        \"description\": \"\"\n      }\n    }\n  ]\n}"
            }
          },
          "metadata": {},
          "execution_count": 310
        }
      ]
    },
    {
      "cell_type": "code",
      "source": [
        "df.describe().T"
      ],
      "metadata": {
        "colab": {
          "base_uri": "https://localhost:8080/",
          "height": 238
        },
        "id": "LM6fuX2Hl50w",
        "outputId": "b22a0c30-f9bd-4b70-97a7-d70a5019a689"
      },
      "execution_count": 311,
      "outputs": [
        {
          "output_type": "execute_result",
          "data": {
            "text/plain": [
              "       count        mean        std     min     25%     50%     75%     max\n",
              "IW      72.0   45.666667   1.678363   43.00   44.00   45.50   47.00   49.00\n",
              "IF      72.0  141.333333   5.145763  131.00  139.00  141.00  146.00  150.00\n",
              "VW      72.0    8.638889   2.061078    4.50    8.00    9.00   10.00   12.00\n",
              "FP      72.0   78.333333  21.493530   50.00   60.00   80.00   80.00  125.00\n",
              "Depth   72.0    1.195556   0.225081    0.80    1.08    1.20    1.29    1.76\n",
              "Width   72.0    1.970417   0.279040    1.68    1.76    1.84    2.05    2.60"
            ],
            "text/html": [
              "\n",
              "  <div id=\"df-a99e3a02-a9c2-48c2-bff2-8c373f9bea93\" class=\"colab-df-container\">\n",
              "    <div>\n",
              "<style scoped>\n",
              "    .dataframe tbody tr th:only-of-type {\n",
              "        vertical-align: middle;\n",
              "    }\n",
              "\n",
              "    .dataframe tbody tr th {\n",
              "        vertical-align: top;\n",
              "    }\n",
              "\n",
              "    .dataframe thead th {\n",
              "        text-align: right;\n",
              "    }\n",
              "</style>\n",
              "<table border=\"1\" class=\"dataframe\">\n",
              "  <thead>\n",
              "    <tr style=\"text-align: right;\">\n",
              "      <th></th>\n",
              "      <th>count</th>\n",
              "      <th>mean</th>\n",
              "      <th>std</th>\n",
              "      <th>min</th>\n",
              "      <th>25%</th>\n",
              "      <th>50%</th>\n",
              "      <th>75%</th>\n",
              "      <th>max</th>\n",
              "    </tr>\n",
              "  </thead>\n",
              "  <tbody>\n",
              "    <tr>\n",
              "      <th>IW</th>\n",
              "      <td>72.0</td>\n",
              "      <td>45.666667</td>\n",
              "      <td>1.678363</td>\n",
              "      <td>43.00</td>\n",
              "      <td>44.00</td>\n",
              "      <td>45.50</td>\n",
              "      <td>47.00</td>\n",
              "      <td>49.00</td>\n",
              "    </tr>\n",
              "    <tr>\n",
              "      <th>IF</th>\n",
              "      <td>72.0</td>\n",
              "      <td>141.333333</td>\n",
              "      <td>5.145763</td>\n",
              "      <td>131.00</td>\n",
              "      <td>139.00</td>\n",
              "      <td>141.00</td>\n",
              "      <td>146.00</td>\n",
              "      <td>150.00</td>\n",
              "    </tr>\n",
              "    <tr>\n",
              "      <th>VW</th>\n",
              "      <td>72.0</td>\n",
              "      <td>8.638889</td>\n",
              "      <td>2.061078</td>\n",
              "      <td>4.50</td>\n",
              "      <td>8.00</td>\n",
              "      <td>9.00</td>\n",
              "      <td>10.00</td>\n",
              "      <td>12.00</td>\n",
              "    </tr>\n",
              "    <tr>\n",
              "      <th>FP</th>\n",
              "      <td>72.0</td>\n",
              "      <td>78.333333</td>\n",
              "      <td>21.493530</td>\n",
              "      <td>50.00</td>\n",
              "      <td>60.00</td>\n",
              "      <td>80.00</td>\n",
              "      <td>80.00</td>\n",
              "      <td>125.00</td>\n",
              "    </tr>\n",
              "    <tr>\n",
              "      <th>Depth</th>\n",
              "      <td>72.0</td>\n",
              "      <td>1.195556</td>\n",
              "      <td>0.225081</td>\n",
              "      <td>0.80</td>\n",
              "      <td>1.08</td>\n",
              "      <td>1.20</td>\n",
              "      <td>1.29</td>\n",
              "      <td>1.76</td>\n",
              "    </tr>\n",
              "    <tr>\n",
              "      <th>Width</th>\n",
              "      <td>72.0</td>\n",
              "      <td>1.970417</td>\n",
              "      <td>0.279040</td>\n",
              "      <td>1.68</td>\n",
              "      <td>1.76</td>\n",
              "      <td>1.84</td>\n",
              "      <td>2.05</td>\n",
              "      <td>2.60</td>\n",
              "    </tr>\n",
              "  </tbody>\n",
              "</table>\n",
              "</div>\n",
              "    <div class=\"colab-df-buttons\">\n",
              "\n",
              "  <div class=\"colab-df-container\">\n",
              "    <button class=\"colab-df-convert\" onclick=\"convertToInteractive('df-a99e3a02-a9c2-48c2-bff2-8c373f9bea93')\"\n",
              "            title=\"Convert this dataframe to an interactive table.\"\n",
              "            style=\"display:none;\">\n",
              "\n",
              "  <svg xmlns=\"http://www.w3.org/2000/svg\" height=\"24px\" viewBox=\"0 -960 960 960\">\n",
              "    <path d=\"M120-120v-720h720v720H120Zm60-500h600v-160H180v160Zm220 220h160v-160H400v160Zm0 220h160v-160H400v160ZM180-400h160v-160H180v160Zm440 0h160v-160H620v160ZM180-180h160v-160H180v160Zm440 0h160v-160H620v160Z\"/>\n",
              "  </svg>\n",
              "    </button>\n",
              "\n",
              "  <style>\n",
              "    .colab-df-container {\n",
              "      display:flex;\n",
              "      gap: 12px;\n",
              "    }\n",
              "\n",
              "    .colab-df-convert {\n",
              "      background-color: #E8F0FE;\n",
              "      border: none;\n",
              "      border-radius: 50%;\n",
              "      cursor: pointer;\n",
              "      display: none;\n",
              "      fill: #1967D2;\n",
              "      height: 32px;\n",
              "      padding: 0 0 0 0;\n",
              "      width: 32px;\n",
              "    }\n",
              "\n",
              "    .colab-df-convert:hover {\n",
              "      background-color: #E2EBFA;\n",
              "      box-shadow: 0px 1px 2px rgba(60, 64, 67, 0.3), 0px 1px 3px 1px rgba(60, 64, 67, 0.15);\n",
              "      fill: #174EA6;\n",
              "    }\n",
              "\n",
              "    .colab-df-buttons div {\n",
              "      margin-bottom: 4px;\n",
              "    }\n",
              "\n",
              "    [theme=dark] .colab-df-convert {\n",
              "      background-color: #3B4455;\n",
              "      fill: #D2E3FC;\n",
              "    }\n",
              "\n",
              "    [theme=dark] .colab-df-convert:hover {\n",
              "      background-color: #434B5C;\n",
              "      box-shadow: 0px 1px 3px 1px rgba(0, 0, 0, 0.15);\n",
              "      filter: drop-shadow(0px 1px 2px rgba(0, 0, 0, 0.3));\n",
              "      fill: #FFFFFF;\n",
              "    }\n",
              "  </style>\n",
              "\n",
              "    <script>\n",
              "      const buttonEl =\n",
              "        document.querySelector('#df-a99e3a02-a9c2-48c2-bff2-8c373f9bea93 button.colab-df-convert');\n",
              "      buttonEl.style.display =\n",
              "        google.colab.kernel.accessAllowed ? 'block' : 'none';\n",
              "\n",
              "      async function convertToInteractive(key) {\n",
              "        const element = document.querySelector('#df-a99e3a02-a9c2-48c2-bff2-8c373f9bea93');\n",
              "        const dataTable =\n",
              "          await google.colab.kernel.invokeFunction('convertToInteractive',\n",
              "                                                    [key], {});\n",
              "        if (!dataTable) return;\n",
              "\n",
              "        const docLinkHtml = 'Like what you see? Visit the ' +\n",
              "          '<a target=\"_blank\" href=https://colab.research.google.com/notebooks/data_table.ipynb>data table notebook</a>'\n",
              "          + ' to learn more about interactive tables.';\n",
              "        element.innerHTML = '';\n",
              "        dataTable['output_type'] = 'display_data';\n",
              "        await google.colab.output.renderOutput(dataTable, element);\n",
              "        const docLink = document.createElement('div');\n",
              "        docLink.innerHTML = docLinkHtml;\n",
              "        element.appendChild(docLink);\n",
              "      }\n",
              "    </script>\n",
              "  </div>\n",
              "\n",
              "\n",
              "<div id=\"df-24447b24-128d-4b26-8fed-b38e90102785\">\n",
              "  <button class=\"colab-df-quickchart\" onclick=\"quickchart('df-24447b24-128d-4b26-8fed-b38e90102785')\"\n",
              "            title=\"Suggest charts\"\n",
              "            style=\"display:none;\">\n",
              "\n",
              "<svg xmlns=\"http://www.w3.org/2000/svg\" height=\"24px\"viewBox=\"0 0 24 24\"\n",
              "     width=\"24px\">\n",
              "    <g>\n",
              "        <path d=\"M19 3H5c-1.1 0-2 .9-2 2v14c0 1.1.9 2 2 2h14c1.1 0 2-.9 2-2V5c0-1.1-.9-2-2-2zM9 17H7v-7h2v7zm4 0h-2V7h2v10zm4 0h-2v-4h2v4z\"/>\n",
              "    </g>\n",
              "</svg>\n",
              "  </button>\n",
              "\n",
              "<style>\n",
              "  .colab-df-quickchart {\n",
              "      --bg-color: #E8F0FE;\n",
              "      --fill-color: #1967D2;\n",
              "      --hover-bg-color: #E2EBFA;\n",
              "      --hover-fill-color: #174EA6;\n",
              "      --disabled-fill-color: #AAA;\n",
              "      --disabled-bg-color: #DDD;\n",
              "  }\n",
              "\n",
              "  [theme=dark] .colab-df-quickchart {\n",
              "      --bg-color: #3B4455;\n",
              "      --fill-color: #D2E3FC;\n",
              "      --hover-bg-color: #434B5C;\n",
              "      --hover-fill-color: #FFFFFF;\n",
              "      --disabled-bg-color: #3B4455;\n",
              "      --disabled-fill-color: #666;\n",
              "  }\n",
              "\n",
              "  .colab-df-quickchart {\n",
              "    background-color: var(--bg-color);\n",
              "    border: none;\n",
              "    border-radius: 50%;\n",
              "    cursor: pointer;\n",
              "    display: none;\n",
              "    fill: var(--fill-color);\n",
              "    height: 32px;\n",
              "    padding: 0;\n",
              "    width: 32px;\n",
              "  }\n",
              "\n",
              "  .colab-df-quickchart:hover {\n",
              "    background-color: var(--hover-bg-color);\n",
              "    box-shadow: 0 1px 2px rgba(60, 64, 67, 0.3), 0 1px 3px 1px rgba(60, 64, 67, 0.15);\n",
              "    fill: var(--button-hover-fill-color);\n",
              "  }\n",
              "\n",
              "  .colab-df-quickchart-complete:disabled,\n",
              "  .colab-df-quickchart-complete:disabled:hover {\n",
              "    background-color: var(--disabled-bg-color);\n",
              "    fill: var(--disabled-fill-color);\n",
              "    box-shadow: none;\n",
              "  }\n",
              "\n",
              "  .colab-df-spinner {\n",
              "    border: 2px solid var(--fill-color);\n",
              "    border-color: transparent;\n",
              "    border-bottom-color: var(--fill-color);\n",
              "    animation:\n",
              "      spin 1s steps(1) infinite;\n",
              "  }\n",
              "\n",
              "  @keyframes spin {\n",
              "    0% {\n",
              "      border-color: transparent;\n",
              "      border-bottom-color: var(--fill-color);\n",
              "      border-left-color: var(--fill-color);\n",
              "    }\n",
              "    20% {\n",
              "      border-color: transparent;\n",
              "      border-left-color: var(--fill-color);\n",
              "      border-top-color: var(--fill-color);\n",
              "    }\n",
              "    30% {\n",
              "      border-color: transparent;\n",
              "      border-left-color: var(--fill-color);\n",
              "      border-top-color: var(--fill-color);\n",
              "      border-right-color: var(--fill-color);\n",
              "    }\n",
              "    40% {\n",
              "      border-color: transparent;\n",
              "      border-right-color: var(--fill-color);\n",
              "      border-top-color: var(--fill-color);\n",
              "    }\n",
              "    60% {\n",
              "      border-color: transparent;\n",
              "      border-right-color: var(--fill-color);\n",
              "    }\n",
              "    80% {\n",
              "      border-color: transparent;\n",
              "      border-right-color: var(--fill-color);\n",
              "      border-bottom-color: var(--fill-color);\n",
              "    }\n",
              "    90% {\n",
              "      border-color: transparent;\n",
              "      border-bottom-color: var(--fill-color);\n",
              "    }\n",
              "  }\n",
              "</style>\n",
              "\n",
              "  <script>\n",
              "    async function quickchart(key) {\n",
              "      const quickchartButtonEl =\n",
              "        document.querySelector('#' + key + ' button');\n",
              "      quickchartButtonEl.disabled = true;  // To prevent multiple clicks.\n",
              "      quickchartButtonEl.classList.add('colab-df-spinner');\n",
              "      try {\n",
              "        const charts = await google.colab.kernel.invokeFunction(\n",
              "            'suggestCharts', [key], {});\n",
              "      } catch (error) {\n",
              "        console.error('Error during call to suggestCharts:', error);\n",
              "      }\n",
              "      quickchartButtonEl.classList.remove('colab-df-spinner');\n",
              "      quickchartButtonEl.classList.add('colab-df-quickchart-complete');\n",
              "    }\n",
              "    (() => {\n",
              "      let quickchartButtonEl =\n",
              "        document.querySelector('#df-24447b24-128d-4b26-8fed-b38e90102785 button');\n",
              "      quickchartButtonEl.style.display =\n",
              "        google.colab.kernel.accessAllowed ? 'block' : 'none';\n",
              "    })();\n",
              "  </script>\n",
              "</div>\n",
              "    </div>\n",
              "  </div>\n"
            ],
            "application/vnd.google.colaboratory.intrinsic+json": {
              "type": "dataframe",
              "summary": "{\n  \"name\": \"df\",\n  \"rows\": 6,\n  \"fields\": [\n    {\n      \"column\": \"count\",\n      \"properties\": {\n        \"dtype\": \"number\",\n        \"std\": 0.0,\n        \"min\": 72.0,\n        \"max\": 72.0,\n        \"num_unique_values\": 1,\n        \"samples\": [\n          72.0\n        ],\n        \"semantic_type\": \"\",\n        \"description\": \"\"\n      }\n    },\n    {\n      \"column\": \"mean\",\n      \"properties\": {\n        \"dtype\": \"number\",\n        \"std\": 55.633944960800356,\n        \"min\": 1.1955555555555555,\n        \"max\": 141.33333333333334,\n        \"num_unique_values\": 6,\n        \"samples\": [\n          45.666666666666664\n        ],\n        \"semantic_type\": \"\",\n        \"description\": \"\"\n      }\n    },\n    {\n      \"column\": \"std\",\n      \"properties\": {\n        \"dtype\": \"number\",\n        \"std\": 8.205921275104645,\n        \"min\": 0.2250814493509862,\n        \"max\": 21.493529979645388,\n        \"num_unique_values\": 6,\n        \"samples\": [\n          1.6783627165933779\n        ],\n        \"semantic_type\": \"\",\n        \"description\": \"\"\n      }\n    },\n    {\n      \"column\": \"min\",\n      \"properties\": {\n        \"dtype\": \"number\",\n        \"std\": 50.2827054429917,\n        \"min\": 0.8,\n        \"max\": 131.0,\n        \"num_unique_values\": 6,\n        \"samples\": [\n          43.0\n        ],\n        \"semantic_type\": \"\",\n        \"description\": \"\"\n      }\n    },\n    {\n      \"column\": \"25%\",\n      \"properties\": {\n        \"dtype\": \"number\",\n        \"std\": 53.26563570132873,\n        \"min\": 1.08,\n        \"max\": 139.0,\n        \"num_unique_values\": 6,\n        \"samples\": [\n          44.0\n        ],\n        \"semantic_type\": \"\",\n        \"description\": \"\"\n      }\n    },\n    {\n      \"column\": \"50%\",\n      \"properties\": {\n        \"dtype\": \"number\",\n        \"std\": 55.68899412511117,\n        \"min\": 1.2,\n        \"max\": 141.0,\n        \"num_unique_values\": 6,\n        \"samples\": [\n          45.5\n        ],\n        \"semantic_type\": \"\",\n        \"description\": \"\"\n      }\n    },\n    {\n      \"column\": \"75%\",\n      \"properties\": {\n        \"dtype\": \"number\",\n        \"std\": 57.21148019992724,\n        \"min\": 1.29,\n        \"max\": 146.0,\n        \"num_unique_values\": 6,\n        \"samples\": [\n          47.0\n        ],\n        \"semantic_type\": \"\",\n        \"description\": \"\"\n      }\n    },\n    {\n      \"column\": \"max\",\n      \"properties\": {\n        \"dtype\": \"number\",\n        \"std\": 65.37946058714975,\n        \"min\": 1.76,\n        \"max\": 150.0,\n        \"num_unique_values\": 6,\n        \"samples\": [\n          49.0\n        ],\n        \"semantic_type\": \"\",\n        \"description\": \"\"\n      }\n    }\n  ]\n}"
            }
          },
          "metadata": {},
          "execution_count": 311
        }
      ]
    },
    {
      "cell_type": "markdown",
      "source": [
        "##Проверка пропущенных значений"
      ],
      "metadata": {
        "id": "7rray5Ic9Nyy"
      }
    },
    {
      "cell_type": "code",
      "source": [
        "#проверка пропущенных значений\n",
        "missing_values = df.isnull().sum()\n",
        "print(missing_values)"
      ],
      "metadata": {
        "colab": {
          "base_uri": "https://localhost:8080/"
        },
        "id": "2MO_K1Lt6o7u",
        "outputId": "1be30550-7c8b-4fdf-bee7-030a720c6bbf"
      },
      "execution_count": 312,
      "outputs": [
        {
          "output_type": "stream",
          "name": "stdout",
          "text": [
            "IW       0\n",
            "IF       0\n",
            "VW       0\n",
            "FP       0\n",
            "Depth    0\n",
            "Width    0\n",
            "dtype: int64\n"
          ]
        }
      ]
    },
    {
      "cell_type": "markdown",
      "source": [
        "##Проверка наличия дубликатов и их количества\n",
        "Поскольку у таблицы мало строк, дубликаты могут оказаться важными и не будут удаляться."
      ],
      "metadata": {
        "id": "hIt5s_hy9XGu"
      }
    },
    {
      "cell_type": "code",
      "source": [
        "#обнаружение дубликатов\n",
        "print(\"Количество дубликатов:\", df.duplicated().sum())\n",
        "\n",
        "#все дублирующиеся строки\n",
        "duplicate_rows = df[df.duplicated(keep=False)]\n",
        "print(\"Дублирующиеся строки:\\n\", duplicate_rows)"
      ],
      "metadata": {
        "colab": {
          "base_uri": "https://localhost:8080/"
        },
        "id": "8S9FhyBDRqT5",
        "outputId": "8ec87d30-6c8d-47fa-f1a5-384128f3daf4"
      },
      "execution_count": 313,
      "outputs": [
        {
          "output_type": "stream",
          "name": "stdout",
          "text": [
            "Количество дубликатов: 7\n",
            "Дублирующиеся строки:\n",
            "     IW   IF    VW  FP  Depth  Width\n",
            "9   45  140   8.0  80   1.20   1.96\n",
            "11  45  140   8.0  80   1.20   1.96\n",
            "29  47  139   4.5  80   1.36   2.48\n",
            "31  47  139   4.5  80   1.36   2.48\n",
            "45  46  146  10.0  60   1.36   1.76\n",
            "46  46  146  10.0  60   1.36   1.76\n",
            "53  43  150   9.0  50   1.08   1.82\n",
            "54  43  150   9.0  50   1.08   1.82\n",
            "55  43  150   9.0  50   1.08   1.82\n",
            "56  44  146   9.0  60   1.20   1.76\n",
            "59  44  146   9.0  60   1.20   1.76\n",
            "69  45  146   9.0  60   1.28   1.76\n",
            "70  45  146   9.0  60   1.28   1.76\n"
          ]
        }
      ]
    },
    {
      "cell_type": "markdown",
      "source": [
        "##Визуализация распределений"
      ],
      "metadata": {
        "id": "BWnl7J6NsaRI"
      }
    },
    {
      "cell_type": "code",
      "source": [
        "df.plot(figsize=(10, 8))\n",
        "plt.show()"
      ],
      "metadata": {
        "colab": {
          "base_uri": "https://localhost:8080/",
          "height": 676
        },
        "id": "RCyFhsz8HtOt",
        "outputId": "90925d1e-4dec-4d70-8e8e-aff566d2bf17"
      },
      "execution_count": 314,
      "outputs": [
        {
          "output_type": "display_data",
          "data": {
            "text/plain": [
              "<Figure size 1000x800 with 1 Axes>"
            ],
            "image/png": "[encoded data removed]"
          },
          "metadata": {}
        }
      ]
    },
    {
      "cell_type": "code",
      "source": [
        "df.hist(figsize=(10, 8))\n",
        "plt.show()"
      ],
      "metadata": {
        "colab": {
          "base_uri": "https://localhost:8080/",
          "height": 699
        },
        "id": "pijoHS3FoN-T",
        "outputId": "b793e44a-a186-429b-b488-02e1ee3a75e3"
      },
      "execution_count": 315,
      "outputs": [
        {
          "output_type": "display_data",
          "data": {
            "text/plain": [
              "<Figure size 1000x800 with 6 Axes>"
            ],
            "image/png": "[encoded data removed]"
          },
          "metadata": {}
        }
      ]
    },
    {
      "cell_type": "markdown",
      "source": [
        "##Графики плотности"
      ],
      "metadata": {
        "id": "thOplyOUsd_6"
      }
    },
    {
      "cell_type": "code",
      "source": [
        "for column in df.select_dtypes(include=['float64', 'int64']).columns:\n",
        "    plt.figure(figsize=(5, 2))\n",
        "    sns.kdeplot(df[column], fill=True)\n",
        "    plt.title(f'График плотности для {column}')\n",
        "    plt.xlabel(column)\n",
        "    plt.ylabel('Плотность')\n",
        "    plt.tight_layout()\n",
        "    plt.show()"
      ],
      "metadata": {
        "colab": {
          "base_uri": "https://localhost:8080/",
          "height": 1000
        },
        "id": "J6swuPPW7BfU",
        "outputId": "ce2468d2-d1d2-4047-b78a-01d7f75f5b33"
      },
      "execution_count": 316,
      "outputs": [
        {
          "output_type": "display_data",
          "data": {
            "text/plain": [
              "<Figure size 500x200 with 1 Axes>"
            ],
            "image/png": "[encoded data removed]"
          },
          "metadata": {}
        },
        {
          "output_type": "display_data",
          "data": {
            "text/plain": [
              "<Figure size 500x200 with 1 Axes>"
            ],
            "image/png": "[encoded data removed]"
          },
          "metadata": {}
        },
        {
          "output_type": "display_data",
          "data": {
            "text/plain": [
              "<Figure size 500x200 with 1 Axes>"
            ],
            "image/png": "[encoded data removed]"
          },
          "metadata": {}
        },
        {
          "output_type": "display_data",
          "data": {
            "text/plain": [
              "<Figure size 500x200 with 1 Axes>"
            ],
            "image/png": "[encoded data removed]"
          },
          "metadata": {}
        },
        {
          "output_type": "display_data",
          "data": {
            "text/plain": [
              "<Figure size 500x200 with 1 Axes>"
            ],
            "image/png": "[encoded data removed]"
          },
          "metadata": {}
        },
        {
          "output_type": "display_data",
          "data": {
            "text/plain": [
              "<Figure size 500x200 with 1 Axes>"
            ],
            "image/png": "[encoded data removed]"
          },
          "metadata": {}
        }
      ]
    },
    {
      "cell_type": "markdown",
      "source": [
        "##Ящик с усами"
      ],
      "metadata": {
        "id": "78ucvhb2si1B"
      }
    },
    {
      "cell_type": "code",
      "source": [
        "columns = ['IW', 'IF', 'VW', 'FP', 'Depth', 'Width']\n",
        "#Создание ящиков с усами для каждого столбца\n",
        "plt.figure(figsize=(12, 8))\n",
        "for i, column in enumerate(columns):\n",
        "    plt.subplot(2, 3, i + 1)  #2 строки, 3 столбца для размещения графиков\n",
        "    sns.boxplot(data=df[column])\n",
        "    plt.title(f'Ящик с усами для {column}')\n",
        "    plt.xlabel(column)\n",
        "\n",
        "plt.tight_layout()  #Автоматическая подстройка пространства между графиками\n",
        "plt.show()  #Отображение графиков"
      ],
      "metadata": {
        "colab": {
          "base_uri": "https://localhost:8080/",
          "height": 807
        },
        "id": "mCpyzhesoRVQ",
        "outputId": "2e085911-b3e9-435e-b8b4-93c5aed4c250"
      },
      "execution_count": 317,
      "outputs": [
        {
          "output_type": "display_data",
          "data": {
            "text/plain": [
              "<Figure size 1200x800 with 6 Axes>"
            ],
            "image/png": "[encoded data removed]"
          },
          "metadata": {}
        }
      ]
    },
    {
      "cell_type": "markdown",
      "source": [
        "Из ящика с усами мы можем обнаружить, что часть столбцов имеет существенные выбросы. Мы не можем определить важность этих выбросов в связи с небольшим разметром датасета, поэтому в дальнейшей работе будут использоваться модели регрессии, которые менее чувствительны к выбросам."
      ],
      "metadata": {
        "id": "ezxOH2scr3Ol"
      }
    },
    {
      "cell_type": "markdown",
      "source": [
        "##Тепловая карта"
      ],
      "metadata": {
        "id": "vxAMZ-wBsmnB"
      }
    },
    {
      "cell_type": "code",
      "source": [
        "#Построение тепловой карты для обнаружения корреляции\n",
        "sns.heatmap(df.corr(), annot=True, cmap='viridis')\n",
        "plt.title('Тепловая карта')\n",
        "plt.show()"
      ],
      "metadata": {
        "colab": {
          "base_uri": "https://localhost:8080/",
          "height": 452
        },
        "id": "cwFaBzU9oUXG",
        "outputId": "466e3577-ea28-4d87-972a-5fb0c3cf3bcf"
      },
      "execution_count": 318,
      "outputs": [
        {
          "output_type": "display_data",
          "data": {
            "text/plain": [
              "<Figure size 640x480 with 2 Axes>"
            ],
            "image/png": "[encoded data removed]"
          },
          "metadata": {}
        }
      ]
    },
    {
      "cell_type": "markdown",
      "source": [
        "#Предварительная обработка данных"
      ],
      "metadata": {
        "id": "FdrhaTTA9-gu"
      }
    },
    {
      "cell_type": "markdown",
      "source": [
        "##Преобразование всех столбцов в один формат"
      ],
      "metadata": {
        "id": "TVb7-RAqWVVO"
      }
    },
    {
      "cell_type": "code",
      "source": [
        "#Просмотр типов данных перед преобразованием\n",
        "print(\"Типы данных перед преобразованием:\")\n",
        "print(df.dtypes)"
      ],
      "metadata": {
        "colab": {
          "base_uri": "https://localhost:8080/"
        },
        "id": "BQIu7CJGXT8n",
        "outputId": "3e7d46dc-a1dd-434a-a9cf-8d746415821c"
      },
      "execution_count": 319,
      "outputs": [
        {
          "output_type": "stream",
          "name": "stdout",
          "text": [
            "Типы данных перед преобразованием:\n",
            "IW         int64\n",
            "IF         int64\n",
            "VW       float64\n",
            "FP         int64\n",
            "Depth    float64\n",
            "Width    float64\n",
            "dtype: object\n"
          ]
        }
      ]
    },
    {
      "cell_type": "code",
      "source": [
        "#Преобразование всех столбцов к float64\n",
        "df = df.astype('float64')"
      ],
      "metadata": {
        "id": "SncztG2dWTu9"
      },
      "execution_count": 320,
      "outputs": []
    },
    {
      "cell_type": "code",
      "source": [
        "#Просмотр типов данных после преобразования\n",
        "print(\"\\nТипы данных после преобразования:\")\n",
        "print(df.dtypes)"
      ],
      "metadata": {
        "colab": {
          "base_uri": "https://localhost:8080/"
        },
        "id": "LXOZ5VQcWdnP",
        "outputId": "e07c9c45-8d9e-4cf6-d2f1-1a8ef75834d0"
      },
      "execution_count": 321,
      "outputs": [
        {
          "output_type": "stream",
          "name": "stdout",
          "text": [
            "\n",
            "Типы данных после преобразования:\n",
            "IW       float64\n",
            "IF       float64\n",
            "VW       float64\n",
            "FP       float64\n",
            "Depth    float64\n",
            "Width    float64\n",
            "dtype: object\n"
          ]
        }
      ]
    },
    {
      "cell_type": "markdown",
      "source": [
        "##Разделение выборки на признаки и целевые переменные"
      ],
      "metadata": {
        "id": "DLQ4Yb83-y8T"
      }
    },
    {
      "cell_type": "code",
      "source": [
        "#Определяем признаки и целевые переменные\n",
        "X = df[['IW', 'IF', 'VW', 'FP']]\n",
        "y_depth = df['Depth']\n",
        "y_width = df['Width']"
      ],
      "metadata": {
        "id": "Y2boka6pPTkj"
      },
      "execution_count": 322,
      "outputs": []
    },
    {
      "cell_type": "markdown",
      "source": [
        "##Разделение данных на обучающую и тестовую выборки"
      ],
      "metadata": {
        "id": "En2VCITQAMfe"
      }
    },
    {
      "cell_type": "code",
      "source": [
        "from sklearn.model_selection import train_test_split, cross_val_score"
      ],
      "metadata": {
        "id": "Q1m3j1DDhNeM"
      },
      "execution_count": 323,
      "outputs": []
    },
    {
      "cell_type": "code",
      "source": [
        "#Разделяем данные на обучающую и тестовую выборки\n",
        "X_train, X_test, y_train_depth, y_test_depth = train_test_split(X, y_depth, test_size=0.2, random_state=42)\n",
        "X_train, X_test, y_train_width, y_test_width = train_test_split(X, y_width, test_size=0.2, random_state=42)"
      ],
      "metadata": {
        "id": "u-NkTbLohR5f"
      },
      "execution_count": 324,
      "outputs": []
    },
    {
      "cell_type": "markdown",
      "source": [
        "##Стандартизация данных перед обучением с помощью MinMaxScaler"
      ],
      "metadata": {
        "id": "fXRlaEj3WoII"
      }
    },
    {
      "cell_type": "code",
      "source": [
        "from sklearn import preprocessing\n",
        "from sklearn.preprocessing import MinMaxScaler"
      ],
      "metadata": {
        "id": "iHZoaO68OLaG"
      },
      "execution_count": 325,
      "outputs": []
    },
    {
      "cell_type": "code",
      "source": [
        "#Стандартизация\n",
        "scaler_X = MinMaxScaler()\n",
        "X_train_scaled = scaler_X.fit_transform(X_train)\n",
        "X_test_scaled = scaler_X.transform(X_test)\n",
        "\n",
        "scaler_y_depth = MinMaxScaler()\n",
        "y_train_depth_scaled = scaler_y_depth.fit_transform(y_train_depth.values.reshape(-1, 1)).flatten()\n",
        "y_test_depth_scaled = scaler_y_depth.transform(y_test_depth.values.reshape(-1, 1)).flatten()\n",
        "\n",
        "scaler_y_width = MinMaxScaler()\n",
        "y_train_width_scaled = scaler_y_width.fit_transform(y_train_width.values.reshape(-1, 1)).flatten()\n",
        "y_test_width_scaled = scaler_y_width.transform(y_test_width.values.reshape(-1, 1)).flatten()"
      ],
      "metadata": {
        "id": "xXJcqdDeirki"
      },
      "execution_count": 326,
      "outputs": []
    },
    {
      "cell_type": "markdown",
      "source": [
        "#Регрессионные модели"
      ],
      "metadata": {
        "id": "eF8eFutXPlgv"
      }
    },
    {
      "cell_type": "markdown",
      "source": [
        "Для решения задачи регрессии были выбраны следующие модели:\n",
        "1. Линейная регрессия\n",
        "2. Регрессия с помощью библиотеки CatBoost\n",
        "3. Случайный лес\n",
        "4. Нейронная сеть"
      ],
      "metadata": {
        "id": "3EEGbPnuwwQv"
      }
    },
    {
      "cell_type": "markdown",
      "source": [
        "##Модель линейной регрессии"
      ],
      "metadata": {
        "id": "ZTINjW37PrWk"
      }
    },
    {
      "cell_type": "markdown",
      "source": [
        "###Import"
      ],
      "metadata": {
        "id": "oP-K-ixejltw"
      }
    },
    {
      "cell_type": "code",
      "source": [
        "from sklearn.linear_model import LinearRegression"
      ],
      "metadata": {
        "id": "-SB920ZWhURF"
      },
      "execution_count": 327,
      "outputs": []
    },
    {
      "cell_type": "markdown",
      "source": [
        "###Создание и обучение модели"
      ],
      "metadata": {
        "id": "NEKTu0s4CMRz"
      }
    },
    {
      "cell_type": "code",
      "source": [
        "#Создание и обучение модели регрессии с кросс-валидацией для Depth\n",
        "lr_model_depth = LinearRegression()\n",
        "lr_model_depth.fit(X_train_scaled, y_train_depth_scaled)\n",
        "lr_cv_depth = cross_val_score(lr_model_depth, X_train_scaled, y_train_depth_scaled, cv=5, scoring='neg_mean_squared_error')"
      ],
      "metadata": {
        "id": "GWMfOE8WUE1l"
      },
      "execution_count": 328,
      "outputs": []
    },
    {
      "cell_type": "code",
      "source": [
        "#Создание и обучение модели регрессии с кросс-валидацией для Width\n",
        "lr_model_width = LinearRegression()\n",
        "lr_model_width.fit(X_train_scaled, y_train_width_scaled)\n",
        "lr_cv_width = cross_val_score(lr_model_width, X_train_scaled, y_train_width_scaled, cv=5, scoring='neg_mean_squared_error')"
      ],
      "metadata": {
        "id": "Sfo4bkOTBh8L"
      },
      "execution_count": 329,
      "outputs": []
    },
    {
      "cell_type": "code",
      "source": [
        "#Предсказания на тестовых данных\n",
        "y_pred_depth_lr = lr_model_depth.predict(X_test_scaled)\n",
        "y_pred_width_lr = lr_model_width.predict(X_test_scaled)"
      ],
      "metadata": {
        "id": "l67wsNUBBh1A"
      },
      "execution_count": 330,
      "outputs": []
    },
    {
      "cell_type": "markdown",
      "source": [
        "###Оценка моделей для Depth и Width"
      ],
      "metadata": {
        "id": "_DouIGPqBqQX"
      }
    },
    {
      "cell_type": "code",
      "source": [
        "#Расчет RMSE и R2 для Depth\n",
        "lr_rmse_depth = np.sqrt(mean_squared_error(y_test_depth_scaled, y_pred_depth_lr))\n",
        "lr_r2_depth = r2_score(y_test_depth_scaled, y_pred_depth_lr)\n",
        "lr_rmse_cv_depth = np.sqrt(-lr_cv_depth.mean())"
      ],
      "metadata": {
        "id": "JqghlznC6jhp"
      },
      "execution_count": 331,
      "outputs": []
    },
    {
      "cell_type": "code",
      "source": [
        "#Расчет RMSE и R2 для Width\n",
        "lr_rmse_width = np.sqrt(mean_squared_error(y_test_width_scaled, y_pred_width_lr))\n",
        "lr_r2_width = r2_score(y_test_width_scaled, y_pred_width_lr)\n",
        "lr_rmse_cv_width = np.sqrt(-lr_cv_width.mean())"
      ],
      "metadata": {
        "id": "iPEdgy638-r-"
      },
      "execution_count": 332,
      "outputs": []
    },
    {
      "cell_type": "code",
      "source": [
        "#Оценка модели для Depth\n",
        "print(\"\\nАнализ модели для Depth:\")\n",
        "print(f\"RMSE на тестовой выборке: {lr_rmse_depth:.4f}\")\n",
        "print(f\"RMSE на кросс-валидации: {lr_rmse_cv_depth:.4f}\")\n",
        "print(f\"Коэффициент детерминации: {lr_r2_depth:.4f}\")\n",
        "#Оценка модели для Width\n",
        "print(\"\\nАнализ модели для Width:\")\n",
        "print(f\"RMSE на тестовой выборке: {lr_rmse_width:.4f}\")\n",
        "print(f\"RMSE кросс-валидации: {lr_rmse_cv_width:.4f}\")\n",
        "print(f\"Коэффициент детерминации: {lr_r2_width:.4f}\")"
      ],
      "metadata": {
        "colab": {
          "base_uri": "https://localhost:8080/"
        },
        "id": "sgZWj7SIBhti",
        "outputId": "b3d2f2f5-22d1-4e32-86d8-6d7904a852d0"
      },
      "execution_count": 333,
      "outputs": [
        {
          "output_type": "stream",
          "name": "stdout",
          "text": [
            "\n",
            "Анализ модели для Depth:\n",
            "RMSE на тестовой выборке: 0.1698\n",
            "RMSE на кросс-валидации: 0.1020\n",
            "Коэффициент детерминации: 0.6154\n",
            "\n",
            "Анализ модели для Width:\n",
            "RMSE на тестовой выборке: 0.0521\n",
            "RMSE кросс-валидации: 0.0827\n",
            "Коэффициент детерминации: 0.9771\n"
          ]
        }
      ]
    },
    {
      "cell_type": "markdown",
      "source": [
        "###Вывод графиков"
      ],
      "metadata": {
        "id": "MRxNCjY0Bx8Z"
      }
    },
    {
      "cell_type": "code",
      "source": [
        "# Визуализация\n",
        "plt.figure(figsize=(14, 6))\n",
        "\n",
        "#Depth\n",
        "plt.subplot(1, 2, 1)\n",
        "sns.scatterplot(x=y_test_depth_scaled, y=y_pred_depth_lr, alpha=0.6, color='blue')\n",
        "plt.plot([y_test_depth_scaled.min(), y_test_depth_scaled.max()], [y_test_depth_scaled.min(), y_test_depth_scaled.max()], 'r--')\n",
        "plt.title('Depth: Linear Regression vs Actual')\n",
        "plt.xlabel('Actual Depth')\n",
        "plt.ylabel('Predicted Depth')\n",
        "plt.grid()\n",
        "\n",
        "# Width\n",
        "plt.subplot(1, 2, 2)\n",
        "sns.scatterplot(x=y_test_width_scaled, y=y_pred_width_lr, alpha=0.6, color='green')\n",
        "plt.plot([y_test_width_scaled.min(), y_test_width_scaled.max()], [y_test_width_scaled.min(), y_test_width_scaled.max()], 'r--')\n",
        "plt.title('Width: Linear Regression vs Actual')\n",
        "plt.xlabel('Actual Width')\n",
        "plt.ylabel('Predicted Width')\n",
        "plt.grid()\n",
        "\n",
        "plt.tight_layout()\n",
        "plt.show()"
      ],
      "metadata": {
        "colab": {
          "base_uri": "https://localhost:8080/",
          "height": 607
        },
        "id": "7_KSW_H7Bw2C",
        "outputId": "5a0ba0e8-14a9-417e-a2e8-050f1b7eb401"
      },
      "execution_count": 334,
      "outputs": [
        {
          "output_type": "display_data",
          "data": {
            "text/plain": [
              "<Figure size 1400x600 with 2 Axes>"
            ],
            "image/png": "[encoded data removed]"
          },
          "metadata": {}
        }
      ]
    },
    {
      "cell_type": "markdown",
      "source": [
        "##Регрессия с помощью библиотеки CatBoost"
      ],
      "metadata": {
        "id": "cLeCk42HPx9f"
      }
    },
    {
      "cell_type": "markdown",
      "source": [
        "###Import"
      ],
      "metadata": {
        "id": "9Huwx_Pijcxi"
      }
    },
    {
      "cell_type": "code",
      "source": [
        "import catboost\n",
        "from catboost import CatBoostRegressor"
      ],
      "metadata": {
        "id": "pTgPNhsRgv8M",
        "collapsed": true
      },
      "execution_count": 335,
      "outputs": []
    },
    {
      "cell_type": "markdown",
      "source": [
        "###Создание и обучение модели"
      ],
      "metadata": {
        "id": "vSp3Sc3HgDHy"
      }
    },
    {
      "cell_type": "code",
      "source": [
        "#Создаем и обучаем модель CatBoost регрессии для Depth\n",
        "cb_model_depth = CatBoostRegressor(iterations=1000, learning_rate=0.1, depth=6, verbose=0)\n",
        "cb_model_depth.fit(X_train_scaled, y_train_depth_scaled)"
      ],
      "metadata": {
        "colab": {
          "base_uri": "https://localhost:8080/"
        },
        "id": "BrwEJTOtcq0m",
        "outputId": "d72c2ada-f524-4b23-c044-dedfdde064af"
      },
      "execution_count": 336,
      "outputs": [
        {
          "output_type": "execute_result",
          "data": {
            "text/plain": [
              "<catboost.core.CatBoostRegressor at 0x7c454fbcece0>"
            ]
          },
          "metadata": {},
          "execution_count": 336
        }
      ]
    },
    {
      "cell_type": "code",
      "source": [
        "#Кросс-валидация Depth\n",
        "cb_cv_depth = cross_val_score(cb_model_depth, X_train_scaled, y_train_depth_scaled, cv=5, scoring='neg_mean_squared_error')"
      ],
      "metadata": {
        "id": "f1F6NulJ7UGn"
      },
      "execution_count": 337,
      "outputs": []
    },
    {
      "cell_type": "code",
      "source": [
        "#Прогнозируем Depth\n",
        "y_pred_depth = cb_model_depth.predict(X_test_scaled)"
      ],
      "metadata": {
        "id": "bsbiYyr1gXed"
      },
      "execution_count": 338,
      "outputs": []
    },
    {
      "cell_type": "code",
      "source": [
        "# Создаем и обучаем модель CatBoost регрессии для Width\n",
        "cb_model_width = CatBoostRegressor(iterations=1000, learning_rate=0.1, depth=6, verbose=0)\n",
        "cb_model_width.fit(X_train_scaled, y_train_width_scaled)"
      ],
      "metadata": {
        "colab": {
          "base_uri": "https://localhost:8080/"
        },
        "id": "c92CG9ghgUFH",
        "outputId": "1c0c12d2-1ff6-49e9-ef97-6bbc0921f444"
      },
      "execution_count": 339,
      "outputs": [
        {
          "output_type": "execute_result",
          "data": {
            "text/plain": [
              "<catboost.core.CatBoostRegressor at 0x7c454fbcd210>"
            ]
          },
          "metadata": {},
          "execution_count": 339
        }
      ]
    },
    {
      "cell_type": "code",
      "source": [
        "#Кросс-валидация Width\n",
        "cb_cv_width = cross_val_score(cb_model_width, X_train_scaled, y_train_width_scaled, cv=5, scoring='neg_mean_squared_error')"
      ],
      "metadata": {
        "id": "-zzKdZiy7d8A"
      },
      "execution_count": 340,
      "outputs": []
    },
    {
      "cell_type": "code",
      "source": [
        "#Прогнозируем Width\n",
        "y_pred_width = cb_model_width.predict(X_test_scaled)"
      ],
      "metadata": {
        "id": "c5-H-D-0gT54"
      },
      "execution_count": 341,
      "outputs": []
    },
    {
      "cell_type": "markdown",
      "source": [
        "###Оценка моделей для Depth и Width"
      ],
      "metadata": {
        "id": "oLAIWCjQgF6D"
      }
    },
    {
      "cell_type": "code",
      "source": [
        "#Расчет RMSE и R2 для Depth\n",
        "cb_rmse_depth = np.sqrt(mean_squared_error(y_test_depth_scaled, y_pred_depth))\n",
        "cb_r2_depth = r2_score(y_test_depth_scaled, y_pred_depth)\n",
        "cb_rmse_cv_depth = np.sqrt(-cb_cv_depth.mean())"
      ],
      "metadata": {
        "id": "RERuz1X4OVXY"
      },
      "execution_count": 342,
      "outputs": []
    },
    {
      "cell_type": "code",
      "source": [
        "#Расчет RMSE и R2 для Width\n",
        "cb_rmse_width = np.sqrt(mean_squared_error(y_test_width_scaled, y_pred_width))\n",
        "cb_r2_width = r2_score(y_test_width_scaled, y_pred_width)\n",
        "cb_rmse_cv_width = np.sqrt(-cb_cv_width.mean())"
      ],
      "metadata": {
        "id": "Wdsve9mbO8HG"
      },
      "execution_count": 343,
      "outputs": []
    },
    {
      "cell_type": "code",
      "source": [
        "#Оценка модели для Depth\n",
        "print(\"\\nАнализ модели для Depth:\")\n",
        "print(f\"RMSE на тестовой выборке: {cb_rmse_depth:.4f}\")\n",
        "print(f\"RMSE на кросс-валидации: {cb_rmse_cv_depth:.4f}\")\n",
        "print(f\"Коэффициент детерминации: {cb_r2_depth:.4f}\")\n",
        "#Оценка модели для Width\n",
        "print(\"\\nАнализ модели для Width:\")\n",
        "print(f\"RMSE на тестовой выборке: {cb_rmse_width:.4f}\")\n",
        "print(f\"RMSE кросс-валидации: {cb_rmse_cv_width:.4f}\")\n",
        "print(f\"Коэффициент детерминации: {cb_r2_width:.4f}\")"
      ],
      "metadata": {
        "id": "L_WdtohIP6f4",
        "colab": {
          "base_uri": "https://localhost:8080/"
        },
        "outputId": "014d08ef-e8f9-49e3-f6e2-e94ee243bd70"
      },
      "execution_count": 344,
      "outputs": [
        {
          "output_type": "stream",
          "name": "stdout",
          "text": [
            "\n",
            "Анализ модели для Depth:\n",
            "RMSE на тестовой выборке: 0.0942\n",
            "RMSE на кросс-валидации: 0.0880\n",
            "Коэффициент детерминации: 0.8817\n",
            "\n",
            "Анализ модели для Width:\n",
            "RMSE на тестовой выборке: 0.0458\n",
            "RMSE кросс-валидации: 0.0644\n",
            "Коэффициент детерминации: 0.9823\n"
          ]
        }
      ]
    },
    {
      "cell_type": "markdown",
      "source": [
        "###Вывод графиков"
      ],
      "metadata": {
        "id": "_VN6WSrkgPEk"
      }
    },
    {
      "cell_type": "code",
      "source": [
        "#Визуализация\n",
        "plt.figure(figsize=(14, 6))\n",
        "\n",
        "#Depth\n",
        "plt.subplot(1, 2, 1)\n",
        "sns.scatterplot(x=y_test_depth_scaled, y=y_pred_depth, alpha=0.6, color='blue')\n",
        "plt.plot([y_test_depth_scaled.min(), y_test_depth_scaled.max()],\n",
        "         [y_test_depth_scaled.min(), y_test_depth_scaled.max()], 'r--')\n",
        "plt.title('Depth: CatBoost vs Actual')\n",
        "plt.xlabel('Actual Depth')\n",
        "plt.ylabel('Predicted Depth')\n",
        "plt.grid()\n",
        "\n",
        "#Width\n",
        "plt.subplot(1, 2, 2)\n",
        "sns.scatterplot(x=y_test_width_scaled, y=y_pred_width, alpha=0.6, color='green')\n",
        "plt.plot([y_test_width_scaled.min(), y_test_width_scaled.max()],\n",
        "         [y_test_width_scaled.min(), y_test_width_scaled.max()], 'r--')\n",
        "plt.title('Width: CatBoost vs Actual')\n",
        "plt.xlabel('Actual Width')\n",
        "plt.ylabel('Predicted Width')\n",
        "plt.grid()\n",
        "\n",
        "plt.tight_layout()\n",
        "plt.show()"
      ],
      "metadata": {
        "colab": {
          "base_uri": "https://localhost:8080/",
          "height": 607
        },
        "id": "7yOsS3EYgRhB",
        "outputId": "0fae9e5b-5422-4ad4-cabf-0d65e1c1b771"
      },
      "execution_count": 345,
      "outputs": [
        {
          "output_type": "display_data",
          "data": {
            "text/plain": [
              "<Figure size 1400x600 with 2 Axes>"
            ],
            "image/png": "[encoded data removed]"
          },
          "metadata": {}
        }
      ]
    },
    {
      "cell_type": "markdown",
      "source": [
        "##Метод случайного леса"
      ],
      "metadata": {
        "id": "CVRyCMu6QBtK"
      }
    },
    {
      "cell_type": "markdown",
      "source": [
        "###Import"
      ],
      "metadata": {
        "id": "5VVUArxFjnmD"
      }
    },
    {
      "cell_type": "code",
      "source": [
        "from sklearn.ensemble import RandomForestRegressor"
      ],
      "metadata": {
        "id": "WAA6pXjHeCye"
      },
      "execution_count": 346,
      "outputs": []
    },
    {
      "cell_type": "markdown",
      "source": [
        "###Создание и обучение модели"
      ],
      "metadata": {
        "id": "T1xwzMikipuH"
      }
    },
    {
      "cell_type": "code",
      "source": [
        "#Создаем и обучаем модель случайного леса для Depth\n",
        "rf_model_depth = RandomForestRegressor(n_estimators=100, random_state=42)\n",
        "rf_model_depth.fit(X_train_scaled, y_train_depth_scaled)"
      ],
      "metadata": {
        "colab": {
          "base_uri": "https://localhost:8080/",
          "height": 80
        },
        "id": "DZXRT2Fbd8sC",
        "outputId": "303bf050-f034-497f-a03b-cb88f6760bb7"
      },
      "execution_count": 347,
      "outputs": [
        {
          "output_type": "execute_result",
          "data": {
            "text/plain": [
              "RandomForestRegressor(random_state=42)"
            ],
            "text/html": [
              "<style>#sk-container-id-9 {\n",
              "  /* Definition of color scheme common for light and dark mode */\n",
              "  --sklearn-color-text: black;\n",
              "  --sklearn-color-line: gray;\n",
              "  /* Definition of color scheme for unfitted estimators */\n",
              "  --sklearn-color-unfitted-level-0: #fff5e6;\n",
              "  --sklearn-color-unfitted-level-1: #f6e4d2;\n",
              "  --sklearn-color-unfitted-level-2: #ffe0b3;\n",
              "  --sklearn-color-unfitted-level-3: chocolate;\n",
              "  /* Definition of color scheme for fitted estimators */\n",
              "  --sklearn-color-fitted-level-0: #f0f8ff;\n",
              "  --sklearn-color-fitted-level-1: #d4ebff;\n",
              "  --sklearn-color-fitted-level-2: #b3dbfd;\n",
              "  --sklearn-color-fitted-level-3: cornflowerblue;\n",
              "\n",
              "  /* Specific color for light theme */\n",
              "  --sklearn-color-text-on-default-background: var(--sg-text-color, var(--theme-code-foreground, var(--jp-content-font-color1, black)));\n",
              "  --sklearn-color-background: var(--sg-background-color, var(--theme-background, var(--jp-layout-color0, white)));\n",
              "  --sklearn-color-border-box: var(--sg-text-color, var(--theme-code-foreground, var(--jp-content-font-color1, black)));\n",
              "  --sklearn-color-icon: #696969;\n",
              "\n",
              "  @media (prefers-color-scheme: dark) {\n",
              "    /* Redefinition of color scheme for dark theme */\n",
              "    --sklearn-color-text-on-default-background: var(--sg-text-color, var(--theme-code-foreground, var(--jp-content-font-color1, white)));\n",
              "    --sklearn-color-background: var(--sg-background-color, var(--theme-background, var(--jp-layout-color0, #111)));\n",
              "    --sklearn-color-border-box: var(--sg-text-color, var(--theme-code-foreground, var(--jp-content-font-color1, white)));\n",
              "    --sklearn-color-icon: #878787;\n",
              "  }\n",
              "}\n",
              "\n",
              "#sk-container-id-9 {\n",
              "  color: var(--sklearn-color-text);\n",
              "}\n",
              "\n",
              "#sk-container-id-9 pre {\n",
              "  padding: 0;\n",
              "}\n",
              "\n",
              "#sk-container-id-9 input.sk-hidden--visually {\n",
              "  border: 0;\n",
              "  clip: rect(1px 1px 1px 1px);\n",
              "  clip: rect(1px, 1px, 1px, 1px);\n",
              "  height: 1px;\n",
              "  margin: -1px;\n",
              "  overflow: hidden;\n",
              "  padding: 0;\n",
              "  position: absolute;\n",
              "  width: 1px;\n",
              "}\n",
              "\n",
              "#sk-container-id-9 div.sk-dashed-wrapped {\n",
              "  border: 1px dashed var(--sklearn-color-line);\n",
              "  margin: 0 0.4em 0.5em 0.4em;\n",
              "  box-sizing: border-box;\n",
              "  padding-bottom: 0.4em;\n",
              "  background-color: var(--sklearn-color-background);\n",
              "}\n",
              "\n",
              "#sk-container-id-9 div.sk-container {\n",
              "  /* jupyter's `normalize.less` sets `[hidden] { display: none; }`\n",
              "     but bootstrap.min.css set `[hidden] { display: none !important; }`\n",
              "     so we also need the `!important` here to be able to override the\n",
              "     default hidden behavior on the sphinx rendered scikit-learn.org.\n",
              "     See: https://github.com/scikit-learn/scikit-learn/issues/21755 */\n",
              "  display: inline-block !important;\n",
              "  position: relative;\n",
              "}\n",
              "\n",
              "#sk-container-id-9 div.sk-text-repr-fallback {\n",
              "  display: none;\n",
              "}\n",
              "\n",
              "div.sk-parallel-item,\n",
              "div.sk-serial,\n",
              "div.sk-item {\n",
              "  /* draw centered vertical line to link estimators */\n",
              "  background-image: linear-gradient(var(--sklearn-color-text-on-default-background), var(--sklearn-color-text-on-default-background));\n",
              "  background-size: 2px 100%;\n",
              "  background-repeat: no-repeat;\n",
              "  background-position: center center;\n",
              "}\n",
              "\n",
              "/* Parallel-specific style estimator block */\n",
              "\n",
              "#sk-container-id-9 div.sk-parallel-item::after {\n",
              "  content: \"\";\n",
              "  width: 100%;\n",
              "  border-bottom: 2px solid var(--sklearn-color-text-on-default-background);\n",
              "  flex-grow: 1;\n",
              "}\n",
              "\n",
              "#sk-container-id-9 div.sk-parallel {\n",
              "  display: flex;\n",
              "  align-items: stretch;\n",
              "  justify-content: center;\n",
              "  background-color: var(--sklearn-color-background);\n",
              "  position: relative;\n",
              "}\n",
              "\n",
              "#sk-container-id-9 div.sk-parallel-item {\n",
              "  display: flex;\n",
              "  flex-direction: column;\n",
              "}\n",
              "\n",
              "#sk-container-id-9 div.sk-parallel-item:first-child::after {\n",
              "  align-self: flex-end;\n",
              "  width: 50%;\n",
              "}\n",
              "\n",
              "#sk-container-id-9 div.sk-parallel-item:last-child::after {\n",
              "  align-self: flex-start;\n",
              "  width: 50%;\n",
              "}\n",
              "\n",
              "#sk-container-id-9 div.sk-parallel-item:only-child::after {\n",
              "  width: 0;\n",
              "}\n",
              "\n",
              "/* Serial-specific style estimator block */\n",
              "\n",
              "#sk-container-id-9 div.sk-serial {\n",
              "  display: flex;\n",
              "  flex-direction: column;\n",
              "  align-items: center;\n",
              "  background-color: var(--sklearn-color-background);\n",
              "  padding-right: 1em;\n",
              "  padding-left: 1em;\n",
              "}\n",
              "\n",
              "\n",
              "/* Toggleable style: style used for estimator/Pipeline/ColumnTransformer box that is\n",
              "clickable and can be expanded/collapsed.\n",
              "- Pipeline and ColumnTransformer use this feature and define the default style\n",
              "- Estimators will overwrite some part of the style using the `sk-estimator` class\n",
              "*/\n",
              "\n",
              "/* Pipeline and ColumnTransformer style (default) */\n",
              "\n",
              "#sk-container-id-9 div.sk-toggleable {\n",
              "  /* Default theme specific background. It is overwritten whether we have a\n",
              "  specific estimator or a Pipeline/ColumnTransformer */\n",
              "  background-color: var(--sklearn-color-background);\n",
              "}\n",
              "\n",
              "/* Toggleable label */\n",
              "#sk-container-id-9 label.sk-toggleable__label {\n",
              "  cursor: pointer;\n",
              "  display: block;\n",
              "  width: 100%;\n",
              "  margin-bottom: 0;\n",
              "  padding: 0.5em;\n",
              "  box-sizing: border-box;\n",
              "  text-align: center;\n",
              "}\n",
              "\n",
              "#sk-container-id-9 label.sk-toggleable__label-arrow:before {\n",
              "  /* Arrow on the left of the label */\n",
              "  content: \"▸\";\n",
              "  float: left;\n",
              "  margin-right: 0.25em;\n",
              "  color: var(--sklearn-color-icon);\n",
              "}\n",
              "\n",
              "#sk-container-id-9 label.sk-toggleable__label-arrow:hover:before {\n",
              "  color: var(--sklearn-color-text);\n",
              "}\n",
              "\n",
              "/* Toggleable content - dropdown */\n",
              "\n",
              "#sk-container-id-9 div.sk-toggleable__content {\n",
              "  max-height: 0;\n",
              "  max-width: 0;\n",
              "  overflow: hidden;\n",
              "  text-align: left;\n",
              "  /* unfitted */\n",
              "  background-color: var(--sklearn-color-unfitted-level-0);\n",
              "}\n",
              "\n",
              "#sk-container-id-9 div.sk-toggleable__content.fitted {\n",
              "  /* fitted */\n",
              "  background-color: var(--sklearn-color-fitted-level-0);\n",
              "}\n",
              "\n",
              "#sk-container-id-9 div.sk-toggleable__content pre {\n",
              "  margin: 0.2em;\n",
              "  border-radius: 0.25em;\n",
              "  color: var(--sklearn-color-text);\n",
              "  /* unfitted */\n",
              "  background-color: var(--sklearn-color-unfitted-level-0);\n",
              "}\n",
              "\n",
              "#sk-container-id-9 div.sk-toggleable__content.fitted pre {\n",
              "  /* unfitted */\n",
              "  background-color: var(--sklearn-color-fitted-level-0);\n",
              "}\n",
              "\n",
              "#sk-container-id-9 input.sk-toggleable__control:checked~div.sk-toggleable__content {\n",
              "  /* Expand drop-down */\n",
              "  max-height: 200px;\n",
              "  max-width: 100%;\n",
              "  overflow: auto;\n",
              "}\n",
              "\n",
              "#sk-container-id-9 input.sk-toggleable__control:checked~label.sk-toggleable__label-arrow:before {\n",
              "  content: \"▾\";\n",
              "}\n",
              "\n",
              "/* Pipeline/ColumnTransformer-specific style */\n",
              "\n",
              "#sk-container-id-9 div.sk-label input.sk-toggleable__control:checked~label.sk-toggleable__label {\n",
              "  color: var(--sklearn-color-text);\n",
              "  background-color: var(--sklearn-color-unfitted-level-2);\n",
              "}\n",
              "\n",
              "#sk-container-id-9 div.sk-label.fitted input.sk-toggleable__control:checked~label.sk-toggleable__label {\n",
              "  background-color: var(--sklearn-color-fitted-level-2);\n",
              "}\n",
              "\n",
              "/* Estimator-specific style */\n",
              "\n",
              "/* Colorize estimator box */\n",
              "#sk-container-id-9 div.sk-estimator input.sk-toggleable__control:checked~label.sk-toggleable__label {\n",
              "  /* unfitted */\n",
              "  background-color: var(--sklearn-color-unfitted-level-2);\n",
              "}\n",
              "\n",
              "#sk-container-id-9 div.sk-estimator.fitted input.sk-toggleable__control:checked~label.sk-toggleable__label {\n",
              "  /* fitted */\n",
              "  background-color: var(--sklearn-color-fitted-level-2);\n",
              "}\n",
              "\n",
              "#sk-container-id-9 div.sk-label label.sk-toggleable__label,\n",
              "#sk-container-id-9 div.sk-label label {\n",
              "  /* The background is the default theme color */\n",
              "  color: var(--sklearn-color-text-on-default-background);\n",
              "}\n",
              "\n",
              "/* On hover, darken the color of the background */\n",
              "#sk-container-id-9 div.sk-label:hover label.sk-toggleable__label {\n",
              "  color: var(--sklearn-color-text);\n",
              "  background-color: var(--sklearn-color-unfitted-level-2);\n",
              "}\n",
              "\n",
              "/* Label box, darken color on hover, fitted */\n",
              "#sk-container-id-9 div.sk-label.fitted:hover label.sk-toggleable__label.fitted {\n",
              "  color: var(--sklearn-color-text);\n",
              "  background-color: var(--sklearn-color-fitted-level-2);\n",
              "}\n",
              "\n",
              "/* Estimator label */\n",
              "\n",
              "#sk-container-id-9 div.sk-label label {\n",
              "  font-family: monospace;\n",
              "  font-weight: bold;\n",
              "  display: inline-block;\n",
              "  line-height: 1.2em;\n",
              "}\n",
              "\n",
              "#sk-container-id-9 div.sk-label-container {\n",
              "  text-align: center;\n",
              "}\n",
              "\n",
              "/* Estimator-specific */\n",
              "#sk-container-id-9 div.sk-estimator {\n",
              "  font-family: monospace;\n",
              "  border: 1px dotted var(--sklearn-color-border-box);\n",
              "  border-radius: 0.25em;\n",
              "  box-sizing: border-box;\n",
              "  margin-bottom: 0.5em;\n",
              "  /* unfitted */\n",
              "  background-color: var(--sklearn-color-unfitted-level-0);\n",
              "}\n",
              "\n",
              "#sk-container-id-9 div.sk-estimator.fitted {\n",
              "  /* fitted */\n",
              "  background-color: var(--sklearn-color-fitted-level-0);\n",
              "}\n",
              "\n",
              "/* on hover */\n",
              "#sk-container-id-9 div.sk-estimator:hover {\n",
              "  /* unfitted */\n",
              "  background-color: var(--sklearn-color-unfitted-level-2);\n",
              "}\n",
              "\n",
              "#sk-container-id-9 div.sk-estimator.fitted:hover {\n",
              "  /* fitted */\n",
              "  background-color: var(--sklearn-color-fitted-level-2);\n",
              "}\n",
              "\n",
              "/* Specification for estimator info (e.g. \"i\" and \"?\") */\n",
              "\n",
              "/* Common style for \"i\" and \"?\" */\n",
              "\n",
              ".sk-estimator-doc-link,\n",
              "a:link.sk-estimator-doc-link,\n",
              "a:visited.sk-estimator-doc-link {\n",
              "  float: right;\n",
              "  font-size: smaller;\n",
              "  line-height: 1em;\n",
              "  font-family: monospace;\n",
              "  background-color: var(--sklearn-color-background);\n",
              "  border-radius: 1em;\n",
              "  height: 1em;\n",
              "  width: 1em;\n",
              "  text-decoration: none !important;\n",
              "  margin-left: 1ex;\n",
              "  /* unfitted */\n",
              "  border: var(--sklearn-color-unfitted-level-1) 1pt solid;\n",
              "  color: var(--sklearn-color-unfitted-level-1);\n",
              "}\n",
              "\n",
              ".sk-estimator-doc-link.fitted,\n",
              "a:link.sk-estimator-doc-link.fitted,\n",
              "a:visited.sk-estimator-doc-link.fitted {\n",
              "  /* fitted */\n",
              "  border: var(--sklearn-color-fitted-level-1) 1pt solid;\n",
              "  color: var(--sklearn-color-fitted-level-1);\n",
              "}\n",
              "\n",
              "/* On hover */\n",
              "div.sk-estimator:hover .sk-estimator-doc-link:hover,\n",
              ".sk-estimator-doc-link:hover,\n",
              "div.sk-label-container:hover .sk-estimator-doc-link:hover,\n",
              ".sk-estimator-doc-link:hover {\n",
              "  /* unfitted */\n",
              "  background-color: var(--sklearn-color-unfitted-level-3);\n",
              "  color: var(--sklearn-color-background);\n",
              "  text-decoration: none;\n",
              "}\n",
              "\n",
              "div.sk-estimator.fitted:hover .sk-estimator-doc-link.fitted:hover,\n",
              ".sk-estimator-doc-link.fitted:hover,\n",
              "div.sk-label-container:hover .sk-estimator-doc-link.fitted:hover,\n",
              ".sk-estimator-doc-link.fitted:hover {\n",
              "  /* fitted */\n",
              "  background-color: var(--sklearn-color-fitted-level-3);\n",
              "  color: var(--sklearn-color-background);\n",
              "  text-decoration: none;\n",
              "}\n",
              "\n",
              "/* Span, style for the box shown on hovering the info icon */\n",
              ".sk-estimator-doc-link span {\n",
              "  display: none;\n",
              "  z-index: 9999;\n",
              "  position: relative;\n",
              "  font-weight: normal;\n",
              "  right: .2ex;\n",
              "  padding: .5ex;\n",
              "  margin: .5ex;\n",
              "  width: min-content;\n",
              "  min-width: 20ex;\n",
              "  max-width: 50ex;\n",
              "  color: var(--sklearn-color-text);\n",
              "  box-shadow: 2pt 2pt 4pt #999;\n",
              "  /* unfitted */\n",
              "  background: var(--sklearn-color-unfitted-level-0);\n",
              "  border: .5pt solid var(--sklearn-color-unfitted-level-3);\n",
              "}\n",
              "\n",
              ".sk-estimator-doc-link.fitted span {\n",
              "  /* fitted */\n",
              "  background: var(--sklearn-color-fitted-level-0);\n",
              "  border: var(--sklearn-color-fitted-level-3);\n",
              "}\n",
              "\n",
              ".sk-estimator-doc-link:hover span {\n",
              "  display: block;\n",
              "}\n",
              "\n",
              "/* \"?\"-specific style due to the `<a>` HTML tag */\n",
              "\n",
              "#sk-container-id-9 a.estimator_doc_link {\n",
              "  float: right;\n",
              "  font-size: 1rem;\n",
              "  line-height: 1em;\n",
              "  font-family: monospace;\n",
              "  background-color: var(--sklearn-color-background);\n",
              "  border-radius: 1rem;\n",
              "  height: 1rem;\n",
              "  width: 1rem;\n",
              "  text-decoration: none;\n",
              "  /* unfitted */\n",
              "  color: var(--sklearn-color-unfitted-level-1);\n",
              "  border: var(--sklearn-color-unfitted-level-1) 1pt solid;\n",
              "}\n",
              "\n",
              "#sk-container-id-9 a.estimator_doc_link.fitted {\n",
              "  /* fitted */\n",
              "  border: var(--sklearn-color-fitted-level-1) 1pt solid;\n",
              "  color: var(--sklearn-color-fitted-level-1);\n",
              "}\n",
              "\n",
              "/* On hover */\n",
              "#sk-container-id-9 a.estimator_doc_link:hover {\n",
              "  /* unfitted */\n",
              "  background-color: var(--sklearn-color-unfitted-level-3);\n",
              "  color: var(--sklearn-color-background);\n",
              "  text-decoration: none;\n",
              "}\n",
              "\n",
              "#sk-container-id-9 a.estimator_doc_link.fitted:hover {\n",
              "  /* fitted */\n",
              "  background-color: var(--sklearn-color-fitted-level-3);\n",
              "}\n",
              "</style><div id=\"sk-container-id-9\" class=\"sk-top-container\"><div class=\"sk-text-repr-fallback\"><pre>RandomForestRegressor(random_state=42)</pre><b>In a Jupyter environment, please rerun this cell to show the HTML representation or trust the notebook. <br />On GitHub, the HTML representation is unable to render, please try loading this page with nbviewer.org.</b></div><div class=\"sk-container\" hidden><div class=\"sk-item\"><div class=\"sk-estimator fitted sk-toggleable\"><input class=\"sk-toggleable__control sk-hidden--visually\" id=\"sk-estimator-id-9\" type=\"checkbox\" checked><label for=\"sk-estimator-id-9\" class=\"sk-toggleable__label fitted sk-toggleable__label-arrow fitted\">&nbsp;&nbsp;RandomForestRegressor<a class=\"sk-estimator-doc-link fitted\" rel=\"noreferrer\" target=\"_blank\" href=\"https://scikit-learn.org/1.5/modules/generated/sklearn.ensemble.RandomForestRegressor.html\">?<span>Documentation for RandomForestRegressor</span></a><span class=\"sk-estimator-doc-link fitted\">i<span>Fitted</span></span></label><div class=\"sk-toggleable__content fitted\"><pre>RandomForestRegressor(random_state=42)</pre></div> </div></div></div></div>"
            ]
          },
          "metadata": {},
          "execution_count": 347
        }
      ]
    },
    {
      "cell_type": "code",
      "source": [
        "#Кросс-валидация Depth\n",
        "rf_cv_depth = cross_val_score(rf_model_depth, X_train_scaled, y_train_depth_scaled, cv=5, scoring='neg_mean_squared_error')"
      ],
      "metadata": {
        "id": "N3faYKxPD0Ug"
      },
      "execution_count": 348,
      "outputs": []
    },
    {
      "cell_type": "code",
      "source": [
        "#Прогнозируем Depth\n",
        "y_pred_depth_rf = rf_model_depth.predict(X_test_scaled)"
      ],
      "metadata": {
        "id": "CVw9sBe3jJP_"
      },
      "execution_count": 349,
      "outputs": []
    },
    {
      "cell_type": "code",
      "source": [
        "#Создаем и обучаем модель случайного леса для Width\n",
        "rf_model_width = RandomForestRegressor(n_estimators=100, random_state=42)\n",
        "rf_model_width.fit(X_train_scaled, y_train_width_scaled)"
      ],
      "metadata": {
        "colab": {
          "base_uri": "https://localhost:8080/",
          "height": 80
        },
        "id": "-DLlzKspjJIX",
        "outputId": "3bba4b61-8eda-4e71-c468-ff5fe814cb4b"
      },
      "execution_count": 350,
      "outputs": [
        {
          "output_type": "execute_result",
          "data": {
            "text/plain": [
              "RandomForestRegressor(random_state=42)"
            ],
            "text/html": [
              "<style>#sk-container-id-10 {\n",
              "  /* Definition of color scheme common for light and dark mode */\n",
              "  --sklearn-color-text: black;\n",
              "  --sklearn-color-line: gray;\n",
              "  /* Definition of color scheme for unfitted estimators */\n",
              "  --sklearn-color-unfitted-level-0: #fff5e6;\n",
              "  --sklearn-color-unfitted-level-1: #f6e4d2;\n",
              "  --sklearn-color-unfitted-level-2: #ffe0b3;\n",
              "  --sklearn-color-unfitted-level-3: chocolate;\n",
              "  /* Definition of color scheme for fitted estimators */\n",
              "  --sklearn-color-fitted-level-0: #f0f8ff;\n",
              "  --sklearn-color-fitted-level-1: #d4ebff;\n",
              "  --sklearn-color-fitted-level-2: #b3dbfd;\n",
              "  --sklearn-color-fitted-level-3: cornflowerblue;\n",
              "\n",
              "  /* Specific color for light theme */\n",
              "  --sklearn-color-text-on-default-background: var(--sg-text-color, var(--theme-code-foreground, var(--jp-content-font-color1, black)));\n",
              "  --sklearn-color-background: var(--sg-background-color, var(--theme-background, var(--jp-layout-color0, white)));\n",
              "  --sklearn-color-border-box: var(--sg-text-color, var(--theme-code-foreground, var(--jp-content-font-color1, black)));\n",
              "  --sklearn-color-icon: #696969;\n",
              "\n",
              "  @media (prefers-color-scheme: dark) {\n",
              "    /* Redefinition of color scheme for dark theme */\n",
              "    --sklearn-color-text-on-default-background: var(--sg-text-color, var(--theme-code-foreground, var(--jp-content-font-color1, white)));\n",
              "    --sklearn-color-background: var(--sg-background-color, var(--theme-background, var(--jp-layout-color0, #111)));\n",
              "    --sklearn-color-border-box: var(--sg-text-color, var(--theme-code-foreground, var(--jp-content-font-color1, white)));\n",
              "    --sklearn-color-icon: #878787;\n",
              "  }\n",
              "}\n",
              "\n",
              "#sk-container-id-10 {\n",
              "  color: var(--sklearn-color-text);\n",
              "}\n",
              "\n",
              "#sk-container-id-10 pre {\n",
              "  padding: 0;\n",
              "}\n",
              "\n",
              "#sk-container-id-10 input.sk-hidden--visually {\n",
              "  border: 0;\n",
              "  clip: rect(1px 1px 1px 1px);\n",
              "  clip: rect(1px, 1px, 1px, 1px);\n",
              "  height: 1px;\n",
              "  margin: -1px;\n",
              "  overflow: hidden;\n",
              "  padding: 0;\n",
              "  position: absolute;\n",
              "  width: 1px;\n",
              "}\n",
              "\n",
              "#sk-container-id-10 div.sk-dashed-wrapped {\n",
              "  border: 1px dashed var(--sklearn-color-line);\n",
              "  margin: 0 0.4em 0.5em 0.4em;\n",
              "  box-sizing: border-box;\n",
              "  padding-bottom: 0.4em;\n",
              "  background-color: var(--sklearn-color-background);\n",
              "}\n",
              "\n",
              "#sk-container-id-10 div.sk-container {\n",
              "  /* jupyter's `normalize.less` sets `[hidden] { display: none; }`\n",
              "     but bootstrap.min.css set `[hidden] { display: none !important; }`\n",
              "     so we also need the `!important` here to be able to override the\n",
              "     default hidden behavior on the sphinx rendered scikit-learn.org.\n",
              "     See: https://github.com/scikit-learn/scikit-learn/issues/21755 */\n",
              "  display: inline-block !important;\n",
              "  position: relative;\n",
              "}\n",
              "\n",
              "#sk-container-id-10 div.sk-text-repr-fallback {\n",
              "  display: none;\n",
              "}\n",
              "\n",
              "div.sk-parallel-item,\n",
              "div.sk-serial,\n",
              "div.sk-item {\n",
              "  /* draw centered vertical line to link estimators */\n",
              "  background-image: linear-gradient(var(--sklearn-color-text-on-default-background), var(--sklearn-color-text-on-default-background));\n",
              "  background-size: 2px 100%;\n",
              "  background-repeat: no-repeat;\n",
              "  background-position: center center;\n",
              "}\n",
              "\n",
              "/* Parallel-specific style estimator block */\n",
              "\n",
              "#sk-container-id-10 div.sk-parallel-item::after {\n",
              "  content: \"\";\n",
              "  width: 100%;\n",
              "  border-bottom: 2px solid var(--sklearn-color-text-on-default-background);\n",
              "  flex-grow: 1;\n",
              "}\n",
              "\n",
              "#sk-container-id-10 div.sk-parallel {\n",
              "  display: flex;\n",
              "  align-items: stretch;\n",
              "  justify-content: center;\n",
              "  background-color: var(--sklearn-color-background);\n",
              "  position: relative;\n",
              "}\n",
              "\n",
              "#sk-container-id-10 div.sk-parallel-item {\n",
              "  display: flex;\n",
              "  flex-direction: column;\n",
              "}\n",
              "\n",
              "#sk-container-id-10 div.sk-parallel-item:first-child::after {\n",
              "  align-self: flex-end;\n",
              "  width: 50%;\n",
              "}\n",
              "\n",
              "#sk-container-id-10 div.sk-parallel-item:last-child::after {\n",
              "  align-self: flex-start;\n",
              "  width: 50%;\n",
              "}\n",
              "\n",
              "#sk-container-id-10 div.sk-parallel-item:only-child::after {\n",
              "  width: 0;\n",
              "}\n",
              "\n",
              "/* Serial-specific style estimator block */\n",
              "\n",
              "#sk-container-id-10 div.sk-serial {\n",
              "  display: flex;\n",
              "  flex-direction: column;\n",
              "  align-items: center;\n",
              "  background-color: var(--sklearn-color-background);\n",
              "  padding-right: 1em;\n",
              "  padding-left: 1em;\n",
              "}\n",
              "\n",
              "\n",
              "/* Toggleable style: style used for estimator/Pipeline/ColumnTransformer box that is\n",
              "clickable and can be expanded/collapsed.\n",
              "- Pipeline and ColumnTransformer use this feature and define the default style\n",
              "- Estimators will overwrite some part of the style using the `sk-estimator` class\n",
              "*/\n",
              "\n",
              "/* Pipeline and ColumnTransformer style (default) */\n",
              "\n",
              "#sk-container-id-10 div.sk-toggleable {\n",
              "  /* Default theme specific background. It is overwritten whether we have a\n",
              "  specific estimator or a Pipeline/ColumnTransformer */\n",
              "  background-color: var(--sklearn-color-background);\n",
              "}\n",
              "\n",
              "/* Toggleable label */\n",
              "#sk-container-id-10 label.sk-toggleable__label {\n",
              "  cursor: pointer;\n",
              "  display: block;\n",
              "  width: 100%;\n",
              "  margin-bottom: 0;\n",
              "  padding: 0.5em;\n",
              "  box-sizing: border-box;\n",
              "  text-align: center;\n",
              "}\n",
              "\n",
              "#sk-container-id-10 label.sk-toggleable__label-arrow:before {\n",
              "  /* Arrow on the left of the label */\n",
              "  content: \"▸\";\n",
              "  float: left;\n",
              "  margin-right: 0.25em;\n",
              "  color: var(--sklearn-color-icon);\n",
              "}\n",
              "\n",
              "#sk-container-id-10 label.sk-toggleable__label-arrow:hover:before {\n",
              "  color: var(--sklearn-color-text);\n",
              "}\n",
              "\n",
              "/* Toggleable content - dropdown */\n",
              "\n",
              "#sk-container-id-10 div.sk-toggleable__content {\n",
              "  max-height: 0;\n",
              "  max-width: 0;\n",
              "  overflow: hidden;\n",
              "  text-align: left;\n",
              "  /* unfitted */\n",
              "  background-color: var(--sklearn-color-unfitted-level-0);\n",
              "}\n",
              "\n",
              "#sk-container-id-10 div.sk-toggleable__content.fitted {\n",
              "  /* fitted */\n",
              "  background-color: var(--sklearn-color-fitted-level-0);\n",
              "}\n",
              "\n",
              "#sk-container-id-10 div.sk-toggleable__content pre {\n",
              "  margin: 0.2em;\n",
              "  border-radius: 0.25em;\n",
              "  color: var(--sklearn-color-text);\n",
              "  /* unfitted */\n",
              "  background-color: var(--sklearn-color-unfitted-level-0);\n",
              "}\n",
              "\n",
              "#sk-container-id-10 div.sk-toggleable__content.fitted pre {\n",
              "  /* unfitted */\n",
              "  background-color: var(--sklearn-color-fitted-level-0);\n",
              "}\n",
              "\n",
              "#sk-container-id-10 input.sk-toggleable__control:checked~div.sk-toggleable__content {\n",
              "  /* Expand drop-down */\n",
              "  max-height: 200px;\n",
              "  max-width: 100%;\n",
              "  overflow: auto;\n",
              "}\n",
              "\n",
              "#sk-container-id-10 input.sk-toggleable__control:checked~label.sk-toggleable__label-arrow:before {\n",
              "  content: \"▾\";\n",
              "}\n",
              "\n",
              "/* Pipeline/ColumnTransformer-specific style */\n",
              "\n",
              "#sk-container-id-10 div.sk-label input.sk-toggleable__control:checked~label.sk-toggleable__label {\n",
              "  color: var(--sklearn-color-text);\n",
              "  background-color: var(--sklearn-color-unfitted-level-2);\n",
              "}\n",
              "\n",
              "#sk-container-id-10 div.sk-label.fitted input.sk-toggleable__control:checked~label.sk-toggleable__label {\n",
              "  background-color: var(--sklearn-color-fitted-level-2);\n",
              "}\n",
              "\n",
              "/* Estimator-specific style */\n",
              "\n",
              "/* Colorize estimator box */\n",
              "#sk-container-id-10 div.sk-estimator input.sk-toggleable__control:checked~label.sk-toggleable__label {\n",
              "  /* unfitted */\n",
              "  background-color: var(--sklearn-color-unfitted-level-2);\n",
              "}\n",
              "\n",
              "#sk-container-id-10 div.sk-estimator.fitted input.sk-toggleable__control:checked~label.sk-toggleable__label {\n",
              "  /* fitted */\n",
              "  background-color: var(--sklearn-color-fitted-level-2);\n",
              "}\n",
              "\n",
              "#sk-container-id-10 div.sk-label label.sk-toggleable__label,\n",
              "#sk-container-id-10 div.sk-label label {\n",
              "  /* The background is the default theme color */\n",
              "  color: var(--sklearn-color-text-on-default-background);\n",
              "}\n",
              "\n",
              "/* On hover, darken the color of the background */\n",
              "#sk-container-id-10 div.sk-label:hover label.sk-toggleable__label {\n",
              "  color: var(--sklearn-color-text);\n",
              "  background-color: var(--sklearn-color-unfitted-level-2);\n",
              "}\n",
              "\n",
              "/* Label box, darken color on hover, fitted */\n",
              "#sk-container-id-10 div.sk-label.fitted:hover label.sk-toggleable__label.fitted {\n",
              "  color: var(--sklearn-color-text);\n",
              "  background-color: var(--sklearn-color-fitted-level-2);\n",
              "}\n",
              "\n",
              "/* Estimator label */\n",
              "\n",
              "#sk-container-id-10 div.sk-label label {\n",
              "  font-family: monospace;\n",
              "  font-weight: bold;\n",
              "  display: inline-block;\n",
              "  line-height: 1.2em;\n",
              "}\n",
              "\n",
              "#sk-container-id-10 div.sk-label-container {\n",
              "  text-align: center;\n",
              "}\n",
              "\n",
              "/* Estimator-specific */\n",
              "#sk-container-id-10 div.sk-estimator {\n",
              "  font-family: monospace;\n",
              "  border: 1px dotted var(--sklearn-color-border-box);\n",
              "  border-radius: 0.25em;\n",
              "  box-sizing: border-box;\n",
              "  margin-bottom: 0.5em;\n",
              "  /* unfitted */\n",
              "  background-color: var(--sklearn-color-unfitted-level-0);\n",
              "}\n",
              "\n",
              "#sk-container-id-10 div.sk-estimator.fitted {\n",
              "  /* fitted */\n",
              "  background-color: var(--sklearn-color-fitted-level-0);\n",
              "}\n",
              "\n",
              "/* on hover */\n",
              "#sk-container-id-10 div.sk-estimator:hover {\n",
              "  /* unfitted */\n",
              "  background-color: var(--sklearn-color-unfitted-level-2);\n",
              "}\n",
              "\n",
              "#sk-container-id-10 div.sk-estimator.fitted:hover {\n",
              "  /* fitted */\n",
              "  background-color: var(--sklearn-color-fitted-level-2);\n",
              "}\n",
              "\n",
              "/* Specification for estimator info (e.g. \"i\" and \"?\") */\n",
              "\n",
              "/* Common style for \"i\" and \"?\" */\n",
              "\n",
              ".sk-estimator-doc-link,\n",
              "a:link.sk-estimator-doc-link,\n",
              "a:visited.sk-estimator-doc-link {\n",
              "  float: right;\n",
              "  font-size: smaller;\n",
              "  line-height: 1em;\n",
              "  font-family: monospace;\n",
              "  background-color: var(--sklearn-color-background);\n",
              "  border-radius: 1em;\n",
              "  height: 1em;\n",
              "  width: 1em;\n",
              "  text-decoration: none !important;\n",
              "  margin-left: 1ex;\n",
              "  /* unfitted */\n",
              "  border: var(--sklearn-color-unfitted-level-1) 1pt solid;\n",
              "  color: var(--sklearn-color-unfitted-level-1);\n",
              "}\n",
              "\n",
              ".sk-estimator-doc-link.fitted,\n",
              "a:link.sk-estimator-doc-link.fitted,\n",
              "a:visited.sk-estimator-doc-link.fitted {\n",
              "  /* fitted */\n",
              "  border: var(--sklearn-color-fitted-level-1) 1pt solid;\n",
              "  color: var(--sklearn-color-fitted-level-1);\n",
              "}\n",
              "\n",
              "/* On hover */\n",
              "div.sk-estimator:hover .sk-estimator-doc-link:hover,\n",
              ".sk-estimator-doc-link:hover,\n",
              "div.sk-label-container:hover .sk-estimator-doc-link:hover,\n",
              ".sk-estimator-doc-link:hover {\n",
              "  /* unfitted */\n",
              "  background-color: var(--sklearn-color-unfitted-level-3);\n",
              "  color: var(--sklearn-color-background);\n",
              "  text-decoration: none;\n",
              "}\n",
              "\n",
              "div.sk-estimator.fitted:hover .sk-estimator-doc-link.fitted:hover,\n",
              ".sk-estimator-doc-link.fitted:hover,\n",
              "div.sk-label-container:hover .sk-estimator-doc-link.fitted:hover,\n",
              ".sk-estimator-doc-link.fitted:hover {\n",
              "  /* fitted */\n",
              "  background-color: var(--sklearn-color-fitted-level-3);\n",
              "  color: var(--sklearn-color-background);\n",
              "  text-decoration: none;\n",
              "}\n",
              "\n",
              "/* Span, style for the box shown on hovering the info icon */\n",
              ".sk-estimator-doc-link span {\n",
              "  display: none;\n",
              "  z-index: 9999;\n",
              "  position: relative;\n",
              "  font-weight: normal;\n",
              "  right: .2ex;\n",
              "  padding: .5ex;\n",
              "  margin: .5ex;\n",
              "  width: min-content;\n",
              "  min-width: 20ex;\n",
              "  max-width: 50ex;\n",
              "  color: var(--sklearn-color-text);\n",
              "  box-shadow: 2pt 2pt 4pt #999;\n",
              "  /* unfitted */\n",
              "  background: var(--sklearn-color-unfitted-level-0);\n",
              "  border: .5pt solid var(--sklearn-color-unfitted-level-3);\n",
              "}\n",
              "\n",
              ".sk-estimator-doc-link.fitted span {\n",
              "  /* fitted */\n",
              "  background: var(--sklearn-color-fitted-level-0);\n",
              "  border: var(--sklearn-color-fitted-level-3);\n",
              "}\n",
              "\n",
              ".sk-estimator-doc-link:hover span {\n",
              "  display: block;\n",
              "}\n",
              "\n",
              "/* \"?\"-specific style due to the `<a>` HTML tag */\n",
              "\n",
              "#sk-container-id-10 a.estimator_doc_link {\n",
              "  float: right;\n",
              "  font-size: 1rem;\n",
              "  line-height: 1em;\n",
              "  font-family: monospace;\n",
              "  background-color: var(--sklearn-color-background);\n",
              "  border-radius: 1rem;\n",
              "  height: 1rem;\n",
              "  width: 1rem;\n",
              "  text-decoration: none;\n",
              "  /* unfitted */\n",
              "  color: var(--sklearn-color-unfitted-level-1);\n",
              "  border: var(--sklearn-color-unfitted-level-1) 1pt solid;\n",
              "}\n",
              "\n",
              "#sk-container-id-10 a.estimator_doc_link.fitted {\n",
              "  /* fitted */\n",
              "  border: var(--sklearn-color-fitted-level-1) 1pt solid;\n",
              "  color: var(--sklearn-color-fitted-level-1);\n",
              "}\n",
              "\n",
              "/* On hover */\n",
              "#sk-container-id-10 a.estimator_doc_link:hover {\n",
              "  /* unfitted */\n",
              "  background-color: var(--sklearn-color-unfitted-level-3);\n",
              "  color: var(--sklearn-color-background);\n",
              "  text-decoration: none;\n",
              "}\n",
              "\n",
              "#sk-container-id-10 a.estimator_doc_link.fitted:hover {\n",
              "  /* fitted */\n",
              "  background-color: var(--sklearn-color-fitted-level-3);\n",
              "}\n",
              "</style><div id=\"sk-container-id-10\" class=\"sk-top-container\"><div class=\"sk-text-repr-fallback\"><pre>RandomForestRegressor(random_state=42)</pre><b>In a Jupyter environment, please rerun this cell to show the HTML representation or trust the notebook. <br />On GitHub, the HTML representation is unable to render, please try loading this page with nbviewer.org.</b></div><div class=\"sk-container\" hidden><div class=\"sk-item\"><div class=\"sk-estimator fitted sk-toggleable\"><input class=\"sk-toggleable__control sk-hidden--visually\" id=\"sk-estimator-id-10\" type=\"checkbox\" checked><label for=\"sk-estimator-id-10\" class=\"sk-toggleable__label fitted sk-toggleable__label-arrow fitted\">&nbsp;&nbsp;RandomForestRegressor<a class=\"sk-estimator-doc-link fitted\" rel=\"noreferrer\" target=\"_blank\" href=\"https://scikit-learn.org/1.5/modules/generated/sklearn.ensemble.RandomForestRegressor.html\">?<span>Documentation for RandomForestRegressor</span></a><span class=\"sk-estimator-doc-link fitted\">i<span>Fitted</span></span></label><div class=\"sk-toggleable__content fitted\"><pre>RandomForestRegressor(random_state=42)</pre></div> </div></div></div></div>"
            ]
          },
          "metadata": {},
          "execution_count": 350
        }
      ]
    },
    {
      "cell_type": "code",
      "source": [
        "#Кросс-валидация Width\n",
        "rf_cv_width = cross_val_score(rf_model_width, X_train_scaled, y_train_width_scaled, cv=5, scoring='neg_mean_squared_error')"
      ],
      "metadata": {
        "id": "ibdbB7jqFUpZ"
      },
      "execution_count": 351,
      "outputs": []
    },
    {
      "cell_type": "code",
      "source": [
        "#Прогнозируем Width\n",
        "y_pred_width_rf = rf_model_width.predict(X_test_scaled)"
      ],
      "metadata": {
        "id": "9Ao733EbjJAN"
      },
      "execution_count": 352,
      "outputs": []
    },
    {
      "cell_type": "markdown",
      "source": [
        "###Оценка моделей для Depth и Width"
      ],
      "metadata": {
        "id": "gKPC_ja-isnr"
      }
    },
    {
      "cell_type": "code",
      "source": [
        "#Расчет RMSE и R2 для Depth\n",
        "rf_rmse_depth = np.sqrt(mean_squared_error(y_test_depth_scaled, y_pred_depth_rf))\n",
        "rf_r2_depth = r2_score(y_test_depth_scaled, y_pred_depth_rf)\n",
        "rf_rmse_cv_depth = np.sqrt(-rf_cv_depth.mean())"
      ],
      "metadata": {
        "id": "ciEOlxNLSGAD"
      },
      "execution_count": 353,
      "outputs": []
    },
    {
      "cell_type": "code",
      "source": [
        "#Расчет RMSE и R2 для Width\n",
        "rf_rmse_width = np.sqrt(mean_squared_error(y_test_width_scaled, y_pred_width_rf))\n",
        "rf_r2_width = r2_score(y_test_width_scaled, y_pred_width_rf)\n",
        "rf_rmse_cv_width = np.sqrt(-rf_cv_width.mean())"
      ],
      "metadata": {
        "id": "Xd0UnrUzSF3Q"
      },
      "execution_count": 354,
      "outputs": []
    },
    {
      "cell_type": "code",
      "source": [
        "#Оценка модели для Depth\n",
        "print(\"\\nАнализ модели для Depth:\")\n",
        "print(f\"RMSE на тестовой выборке: {rf_rmse_depth:.4f}\")\n",
        "print(f\"RMSE на кросс-валидации: {rf_rmse_cv_depth:.4f}\")\n",
        "print(f\"Коэффициент детерминации: {rf_r2_depth:.4f}\")\n",
        "\n",
        "#Оценка модели для Width\n",
        "print(\"\\nАнализ модели для Width:\")\n",
        "print(f\"RMSE на тестовой выборке: {rf_rmse_width:.4f}\")\n",
        "print(f\"RMSE кросс-валидации: {rf_rmse_cv_width:.4f}\")\n",
        "print(f\"Коэффициент детерминации: {rf_r2_width:.4f}\")"
      ],
      "metadata": {
        "colab": {
          "base_uri": "https://localhost:8080/"
        },
        "id": "2A5tAJ8oi4jT",
        "outputId": "075f99f4-c14f-4b58-95ca-7a827aca4790"
      },
      "execution_count": 355,
      "outputs": [
        {
          "output_type": "stream",
          "name": "stdout",
          "text": [
            "\n",
            "Анализ модели для Depth:\n",
            "RMSE на тестовой выборке: 0.1006\n",
            "RMSE на кросс-валидации: 0.0850\n",
            "Коэффициент детерминации: 0.8650\n",
            "\n",
            "Анализ модели для Width:\n",
            "RMSE на тестовой выборке: 0.0503\n",
            "RMSE кросс-валидации: 0.0693\n",
            "Коэффициент детерминации: 0.9787\n"
          ]
        }
      ]
    },
    {
      "cell_type": "markdown",
      "source": [
        "###Вывод графиков"
      ],
      "metadata": {
        "id": "v7bX_b5QiwXb"
      }
    },
    {
      "cell_type": "code",
      "source": [
        "#Визуализация\n",
        "plt.figure(figsize=(14, 6))\n",
        "\n",
        "#Depth\n",
        "plt.subplot(1, 2, 1)\n",
        "sns.scatterplot(x=y_test_depth_scaled, y=y_pred_depth_rf, alpha=0.6, color='blue')\n",
        "plt.plot([y_test_depth_scaled.min(), y_test_depth_scaled.max()],\n",
        "         [y_test_depth_scaled.min(), y_test_depth_scaled.max()], 'r--')\n",
        "plt.title('Depth: Random Forest vs Actual')\n",
        "plt.xlabel('Actual Depth')\n",
        "plt.ylabel('Predicted Depth')\n",
        "plt.grid()\n",
        "\n",
        "#Width\n",
        "plt.subplot(1, 2, 2)\n",
        "sns.scatterplot(x=y_test_width_scaled, y=y_pred_width_rf, alpha=0.6, color='green')\n",
        "plt.plot([y_test_width_scaled.min(), y_test_width_scaled.max()],\n",
        "         [y_test_width_scaled.min(), y_test_width_scaled.max()], 'r--')\n",
        "plt.title('Width: Random Forest vs Actual')\n",
        "plt.xlabel('Actual Width')\n",
        "plt.ylabel('Predicted Width')\n",
        "plt.grid()\n",
        "\n",
        "plt.tight_layout()\n",
        "plt.show()"
      ],
      "metadata": {
        "colab": {
          "base_uri": "https://localhost:8080/",
          "height": 607
        },
        "id": "qaDmNJ2kizYn",
        "outputId": "beb73c2c-8c66-4497-e540-b4900883c230"
      },
      "execution_count": 356,
      "outputs": [
        {
          "output_type": "display_data",
          "data": {
            "text/plain": [
              "<Figure size 1400x600 with 2 Axes>"
            ],
            "image/png": "[encoded data removed]"
          },
          "metadata": {}
        }
      ]
    },
    {
      "cell_type": "markdown",
      "source": [
        "##Нейронная сеть"
      ],
      "metadata": {
        "id": "rjQNykpK81AC"
      }
    },
    {
      "cell_type": "markdown",
      "source": [
        "###Стандартизация данных перед обучением с помощью RobustScaler"
      ],
      "metadata": {
        "id": "pi7lFi9_1edx"
      }
    },
    {
      "cell_type": "markdown",
      "source": [
        "Нейронная сеть при работе со стандартизированными через MinMaxScaler данными показывала либо очень низкие, либо аномальные результаты. Для стабилизации работы данные были стабилизированы через метод RobustScaler, который также подходит для работы с датасетами с выбросами."
      ],
      "metadata": {
        "id": "9QJT2xBN1AFk"
      }
    },
    {
      "cell_type": "code",
      "source": [
        "from sklearn.preprocessing import RobustScaler"
      ],
      "metadata": {
        "id": "P38AS1evSlFl"
      },
      "execution_count": 357,
      "outputs": []
    },
    {
      "cell_type": "code",
      "source": [
        "# Стандартизация данных с помощью RobustScaler\n",
        "scaler_rs_X = RobustScaler()\n",
        "X_train_scaled_rs = scaler_rs_X.fit_transform(X_train)\n",
        "X_test_scaled_rs = scaler_rs_X.transform(X_test)\n",
        "\n",
        "# Стандартизация целевых переменных\n",
        "scaler_y_depth_rs = RobustScaler()\n",
        "y_train_depth_scaled_rs = scaler_y_depth_rs.fit_transform(y_train_depth.values.reshape(-1, 1))\n",
        "y_test_depth_scaled_rs = scaler_y_depth_rs.transform(y_test_depth.values.reshape(-1, 1))\n",
        "\n",
        "scaler_y_width_rs = RobustScaler()\n",
        "y_train_width_scaled_rs = scaler_y_width_rs.fit_transform(y_train_width.values.reshape(-1, 1))\n",
        "y_test_width_scaled_rs = scaler_y_width_rs.transform(y_test_width.values.reshape(-1, 1))"
      ],
      "metadata": {
        "id": "HSC1YjdphlZh"
      },
      "execution_count": 358,
      "outputs": []
    },
    {
      "cell_type": "markdown",
      "source": [
        "###Import"
      ],
      "metadata": {
        "id": "mHy27ss6j0Xj"
      }
    },
    {
      "cell_type": "code",
      "source": [
        "from tensorflow import keras\n",
        "from tensorflow.keras import layers\n",
        "from tensorflow.keras.models import Sequential\n",
        "from tensorflow.keras.layers import Input, Dense, Dropout, BatchNormalization\n",
        "from tensorflow.keras.callbacks import EarlyStopping"
      ],
      "metadata": {
        "id": "XykseDOw9rwW"
      },
      "execution_count": 359,
      "outputs": []
    },
    {
      "cell_type": "markdown",
      "source": [
        "###Создание модели"
      ],
      "metadata": {
        "id": "APAktIgcj2qS"
      }
    },
    {
      "cell_type": "code",
      "source": [
        "#Создание и компиляция модели\n",
        "def create_model():\n",
        "    \"\"\"\n",
        "\n",
        "    Returns:\n",
        "\n",
        "    \"\"\"\n",
        "    model = Sequential()\n",
        "    model.add(Input(shape=(X_train_scaled_rs.shape[1],)))\n",
        "    model.add(Dense(128, activation='relu'))\n",
        "    model.add(Dropout(0.3))\n",
        "    model.add(Dense(64, activation='relu'))\n",
        "    model.add(Dropout(0.2))\n",
        "    model.add(Dense(32, activation='relu'))\n",
        "    model.add(Dense(2))  #2 выхода для Depth и Width\n",
        "\n",
        "    model.compile(optimizer='adam', loss='mean_squared_error')\n",
        "    return model"
      ],
      "metadata": {
        "id": "QKGeGkNe9pAu",
        "collapsed": true
      },
      "execution_count": 360,
      "outputs": []
    },
    {
      "cell_type": "markdown",
      "source": [
        "###Обучение модели"
      ],
      "metadata": {
        "id": "nyaxdGhvkbJR"
      }
    },
    {
      "cell_type": "code",
      "source": [
        "#Обучение модели\n",
        "model = create_model()\n",
        "early_stopping = EarlyStopping(monitor='val_loss', patience=10, restore_best_weights=True)\n",
        "\n",
        "history = model.fit(X_train_scaled_rs,\n",
        "                    np.column_stack((y_train_depth_scaled_rs, y_train_width_scaled_rs)),\n",
        "                    epochs=200,\n",
        "                    batch_size=16,\n",
        "                    verbose=1,\n",
        "                    validation_split=0.2,\n",
        "                    callbacks=[early_stopping])"
      ],
      "metadata": {
        "id": "u5X7KSiVkRXq",
        "colab": {
          "base_uri": "https://localhost:8080/"
        },
        "collapsed": true,
        "outputId": "85418561-bb0e-449a-e656-de0e7b0eef82"
      },
      "execution_count": 361,
      "outputs": [
        {
          "output_type": "stream",
          "name": "stdout",
          "text": [
            "Epoch 1/200\n",
            "\u001b[1m3/3\u001b[0m \u001b[32m━━━━━━━━━━━━━━━━━━━━\u001b[0m\u001b[37m\u001b[0m \u001b[1m5s\u001b[0m 255ms/step - loss: 1.2011 - val_loss: 1.4325\n",
            "Epoch 2/200\n",
            "\u001b[1m3/3\u001b[0m \u001b[32m━━━━━━━━━━━━━━━━━━━━\u001b[0m\u001b[37m\u001b[0m \u001b[1m1s\u001b[0m 73ms/step - loss: 0.9094 - val_loss: 1.1717\n",
            "Epoch 3/200\n",
            "\u001b[1m3/3\u001b[0m \u001b[32m━━━━━━━━━━━━━━━━━━━━\u001b[0m\u001b[37m\u001b[0m \u001b[1m0s\u001b[0m 61ms/step - loss: 0.9166 - val_loss: 0.9737\n",
            "Epoch 4/200\n",
            "\u001b[1m3/3\u001b[0m \u001b[32m━━━━━━━━━━━━━━━━━━━━\u001b[0m\u001b[37m\u001b[0m \u001b[1m0s\u001b[0m 57ms/step - loss: 0.6387 - val_loss: 0.8008\n",
            "Epoch 5/200\n",
            "\u001b[1m3/3\u001b[0m \u001b[32m━━━━━━━━━━━━━━━━━━━━\u001b[0m\u001b[37m\u001b[0m \u001b[1m0s\u001b[0m 91ms/step - loss: 0.4112 - val_loss: 0.6691\n",
            "Epoch 6/200\n",
            "\u001b[1m3/3\u001b[0m \u001b[32m━━━━━━━━━━━━━━━━━━━━\u001b[0m\u001b[37m\u001b[0m \u001b[1m1s\u001b[0m 54ms/step - loss: 0.5934 - val_loss: 0.5420\n",
            "Epoch 7/200\n",
            "\u001b[1m3/3\u001b[0m \u001b[32m━━━━━━━━━━━━━━━━━━━━\u001b[0m\u001b[37m\u001b[0m \u001b[1m0s\u001b[0m 43ms/step - loss: 0.4465 - val_loss: 0.4295\n",
            "Epoch 8/200\n",
            "\u001b[1m3/3\u001b[0m \u001b[32m━━━━━━━━━━━━━━━━━━━━\u001b[0m\u001b[37m\u001b[0m \u001b[1m0s\u001b[0m 43ms/step - loss: 0.3082 - val_loss: 0.3428\n",
            "Epoch 9/200\n",
            "\u001b[1m3/3\u001b[0m \u001b[32m━━━━━━━━━━━━━━━━━━━━\u001b[0m\u001b[37m\u001b[0m \u001b[1m0s\u001b[0m 28ms/step - loss: 0.2441 - val_loss: 0.2757\n",
            "Epoch 10/200\n",
            "\u001b[1m3/3\u001b[0m \u001b[32m━━━━━━━━━━━━━━━━━━━━\u001b[0m\u001b[37m\u001b[0m \u001b[1m0s\u001b[0m 60ms/step - loss: 0.2378 - val_loss: 0.2384\n",
            "Epoch 11/200\n",
            "\u001b[1m3/3\u001b[0m \u001b[32m━━━━━━━━━━━━━━━━━━━━\u001b[0m\u001b[37m\u001b[0m \u001b[1m0s\u001b[0m 28ms/step - loss: 0.2015 - val_loss: 0.2190\n",
            "Epoch 12/200\n",
            "\u001b[1m3/3\u001b[0m \u001b[32m━━━━━━━━━━━━━━━━━━━━\u001b[0m\u001b[37m\u001b[0m \u001b[1m0s\u001b[0m 72ms/step - loss: 0.1787 - val_loss: 0.2013\n",
            "Epoch 13/200\n",
            "\u001b[1m3/3\u001b[0m \u001b[32m━━━━━━━━━━━━━━━━━━━━\u001b[0m\u001b[37m\u001b[0m \u001b[1m0s\u001b[0m 88ms/step - loss: 0.1703 - val_loss: 0.1800\n",
            "Epoch 14/200\n",
            "\u001b[1m3/3\u001b[0m \u001b[32m━━━━━━━━━━━━━━━━━━━━\u001b[0m\u001b[37m\u001b[0m \u001b[1m0s\u001b[0m 78ms/step - loss: 0.1390 - val_loss: 0.1599\n",
            "Epoch 15/200\n",
            "\u001b[1m3/3\u001b[0m \u001b[32m━━━━━━━━━━━━━━━━━━━━\u001b[0m\u001b[37m\u001b[0m \u001b[1m0s\u001b[0m 39ms/step - loss: 0.1055 - val_loss: 0.1493\n",
            "Epoch 16/200\n",
            "\u001b[1m3/3\u001b[0m \u001b[32m━━━━━━━━━━━━━━━━━━━━\u001b[0m\u001b[37m\u001b[0m \u001b[1m0s\u001b[0m 30ms/step - loss: 0.1051 - val_loss: 0.1438\n",
            "Epoch 17/200\n",
            "\u001b[1m3/3\u001b[0m \u001b[32m━━━━━━━━━━━━━━━━━━━━\u001b[0m\u001b[37m\u001b[0m \u001b[1m0s\u001b[0m 38ms/step - loss: 0.1699 - val_loss: 0.1421\n",
            "Epoch 18/200\n",
            "\u001b[1m3/3\u001b[0m \u001b[32m━━━━━━━━━━━━━━━━━━━━\u001b[0m\u001b[37m\u001b[0m \u001b[1m0s\u001b[0m 38ms/step - loss: 0.1063 - val_loss: 0.1424\n",
            "Epoch 19/200\n",
            "\u001b[1m3/3\u001b[0m \u001b[32m━━━━━━━━━━━━━━━━━━━━\u001b[0m\u001b[37m\u001b[0m \u001b[1m0s\u001b[0m 24ms/step - loss: 0.1201 - val_loss: 0.1451\n",
            "Epoch 20/200\n",
            "\u001b[1m3/3\u001b[0m \u001b[32m━━━━━━━━━━━━━━━━━━━━\u001b[0m\u001b[37m\u001b[0m \u001b[1m0s\u001b[0m 34ms/step - loss: 0.0954 - val_loss: 0.1422\n",
            "Epoch 21/200\n",
            "\u001b[1m3/3\u001b[0m \u001b[32m━━━━━━━━━━━━━━━━━━━━\u001b[0m\u001b[37m\u001b[0m \u001b[1m0s\u001b[0m 26ms/step - loss: 0.0995 - val_loss: 0.1366\n",
            "Epoch 22/200\n",
            "\u001b[1m3/3\u001b[0m \u001b[32m━━━━━━━━━━━━━━━━━━━━\u001b[0m\u001b[37m\u001b[0m \u001b[1m0s\u001b[0m 25ms/step - loss: 0.1211 - val_loss: 0.1328\n",
            "Epoch 23/200\n",
            "\u001b[1m3/3\u001b[0m \u001b[32m━━━━━━━━━━━━━━━━━━━━\u001b[0m\u001b[37m\u001b[0m \u001b[1m0s\u001b[0m 27ms/step - loss: 0.1412 - val_loss: 0.1304\n",
            "Epoch 24/200\n",
            "\u001b[1m3/3\u001b[0m \u001b[32m━━━━━━━━━━━━━━━━━━━━\u001b[0m\u001b[37m\u001b[0m \u001b[1m0s\u001b[0m 61ms/step - loss: 0.1263 - val_loss: 0.1287\n",
            "Epoch 25/200\n",
            "\u001b[1m3/3\u001b[0m \u001b[32m━━━━━━━━━━━━━━━━━━━━\u001b[0m\u001b[37m\u001b[0m \u001b[1m0s\u001b[0m 58ms/step - loss: 0.1269 - val_loss: 0.1285\n",
            "Epoch 26/200\n",
            "\u001b[1m3/3\u001b[0m \u001b[32m━━━━━━━━━━━━━━━━━━━━\u001b[0m\u001b[37m\u001b[0m \u001b[1m0s\u001b[0m 36ms/step - loss: 0.0992 - val_loss: 0.1265\n",
            "Epoch 27/200\n",
            "\u001b[1m3/3\u001b[0m \u001b[32m━━━━━━━━━━━━━━━━━━━━\u001b[0m\u001b[37m\u001b[0m \u001b[1m0s\u001b[0m 79ms/step - loss: 0.0906 - val_loss: 0.1259\n",
            "Epoch 28/200\n",
            "\u001b[1m3/3\u001b[0m \u001b[32m━━━━━━━━━━━━━━━━━━━━\u001b[0m\u001b[37m\u001b[0m \u001b[1m0s\u001b[0m 49ms/step - loss: 0.1343 - val_loss: 0.1259\n",
            "Epoch 29/200\n",
            "\u001b[1m3/3\u001b[0m \u001b[32m━━━━━━━━━━━━━━━━━━━━\u001b[0m\u001b[37m\u001b[0m \u001b[1m0s\u001b[0m 30ms/step - loss: 0.0961 - val_loss: 0.1252\n",
            "Epoch 30/200\n",
            "\u001b[1m3/3\u001b[0m \u001b[32m━━━━━━━━━━━━━━━━━━━━\u001b[0m\u001b[37m\u001b[0m \u001b[1m0s\u001b[0m 27ms/step - loss: 0.1235 - val_loss: 0.1256\n",
            "Epoch 31/200\n",
            "\u001b[1m3/3\u001b[0m \u001b[32m━━━━━━━━━━━━━━━━━━━━\u001b[0m\u001b[37m\u001b[0m \u001b[1m0s\u001b[0m 62ms/step - loss: 0.1027 - val_loss: 0.1262\n",
            "Epoch 32/200\n",
            "\u001b[1m3/3\u001b[0m \u001b[32m━━━━━━━━━━━━━━━━━━━━\u001b[0m\u001b[37m\u001b[0m \u001b[1m0s\u001b[0m 30ms/step - loss: 0.0861 - val_loss: 0.1281\n",
            "Epoch 33/200\n",
            "\u001b[1m3/3\u001b[0m \u001b[32m━━━━━━━━━━━━━━━━━━━━\u001b[0m\u001b[37m\u001b[0m \u001b[1m0s\u001b[0m 27ms/step - loss: 0.1003 - val_loss: 0.1273\n",
            "Epoch 34/200\n",
            "\u001b[1m3/3\u001b[0m \u001b[32m━━━━━━━━━━━━━━━━━━━━\u001b[0m\u001b[37m\u001b[0m \u001b[1m0s\u001b[0m 30ms/step - loss: 0.0871 - val_loss: 0.1273\n",
            "Epoch 35/200\n",
            "\u001b[1m3/3\u001b[0m \u001b[32m━━━━━━━━━━━━━━━━━━━━\u001b[0m\u001b[37m\u001b[0m \u001b[1m0s\u001b[0m 27ms/step - loss: 0.1650 - val_loss: 0.1306\n",
            "Epoch 36/200\n",
            "\u001b[1m3/3\u001b[0m \u001b[32m━━━━━━━━━━━━━━━━━━━━\u001b[0m\u001b[37m\u001b[0m \u001b[1m0s\u001b[0m 29ms/step - loss: 0.1058 - val_loss: 0.1334\n",
            "Epoch 37/200\n",
            "\u001b[1m3/3\u001b[0m \u001b[32m━━━━━━━━━━━━━━━━━━━━\u001b[0m\u001b[37m\u001b[0m \u001b[1m0s\u001b[0m 63ms/step - loss: 0.0845 - val_loss: 0.1357\n",
            "Epoch 38/200\n",
            "\u001b[1m3/3\u001b[0m \u001b[32m━━━━━━━━━━━━━━━━━━━━\u001b[0m\u001b[37m\u001b[0m \u001b[1m0s\u001b[0m 65ms/step - loss: 0.1002 - val_loss: 0.1402\n",
            "Epoch 39/200\n",
            "\u001b[1m3/3\u001b[0m \u001b[32m━━━━━━━━━━━━━━━━━━━━\u001b[0m\u001b[37m\u001b[0m \u001b[1m0s\u001b[0m 50ms/step - loss: 0.1074 - val_loss: 0.1377\n"
          ]
        }
      ]
    },
    {
      "cell_type": "code",
      "source": [
        "#Прогнозирование\n",
        "y_pred_scaled_nn = model.predict(X_test_scaled_rs)"
      ],
      "metadata": {
        "colab": {
          "base_uri": "https://localhost:8080/"
        },
        "id": "q-l8mElKj8la",
        "outputId": "23f7be0f-89f5-4ca7-943c-690b7856feef"
      },
      "execution_count": 362,
      "outputs": [
        {
          "output_type": "stream",
          "name": "stderr",
          "text": [
            "WARNING:tensorflow:5 out of the last 5 calls to <function TensorFlowTrainer.make_predict_function.<locals>.one_step_on_data_distributed at 0x7c454b959480> triggered tf.function retracing. Tracing is expensive and the excessive number of tracings could be due to (1) creating @tf.function repeatedly in a loop, (2) passing tensors with different shapes, (3) passing Python objects instead of tensors. For (1), please define your @tf.function outside of the loop. For (2), @tf.function has reduce_retracing=True option that can avoid unnecessary retracing. For (3), please refer to https://www.tensorflow.org/guide/function#controlling_retracing and https://www.tensorflow.org/api_docs/python/tf/function for  more details.\n"
          ]
        },
        {
          "output_type": "stream",
          "name": "stdout",
          "text": [
            "\u001b[1m1/1\u001b[0m \u001b[32m━━━━━━━━━━━━━━━━━━━━\u001b[0m\u001b[37m\u001b[0m \u001b[1m0s\u001b[0m 74ms/step\n"
          ]
        }
      ]
    },
    {
      "cell_type": "code",
      "source": [
        "#Обратное преобразование для предсказаний\n",
        "y_pred_depth_nn = scaler_y_depth_rs.inverse_transform(y_pred_scaled_nn[:, 0].reshape(-1, 1))\n",
        "y_pred_width_nn = scaler_y_width_rs.inverse_transform(y_pred_scaled_nn[:, 1].reshape(-1, 1))"
      ],
      "metadata": {
        "id": "6XAfk-GvPVhz"
      },
      "execution_count": 363,
      "outputs": []
    },
    {
      "cell_type": "markdown",
      "source": [
        "###Оценка моделей для Depth и Width"
      ],
      "metadata": {
        "id": "SoJb4YwQkyOY"
      }
    },
    {
      "cell_type": "code",
      "source": [
        "#Расчет RMSE и R2 для Depth\n",
        "nn_rmse_depth = np.sqrt(mean_squared_error(y_test_depth, y_pred_depth_nn))\n",
        "nn_r2_depth = r2_score(y_test_depth, y_pred_depth_nn)"
      ],
      "metadata": {
        "id": "oRROsiBzj8do"
      },
      "execution_count": 364,
      "outputs": []
    },
    {
      "cell_type": "code",
      "source": [
        "#Расчет RMSE и R2 для Width\n",
        "nn_rmse_width = np.sqrt(mean_squared_error(y_test_width, y_pred_width_nn))\n",
        "nn_r2_width = r2_score(y_test_width, y_pred_width_nn)"
      ],
      "metadata": {
        "id": "-lCs21-fVGBk"
      },
      "execution_count": 365,
      "outputs": []
    },
    {
      "cell_type": "code",
      "source": [
        "#Оценка модели для Depth\n",
        "print(\"\\nАнализ модели для Depth:\")\n",
        "print(f\"RMSE на тестовой выборке: {nn_rmse_depth:.4f}\")\n",
        "print(f\"Коэффициент детерминации: {nn_r2_depth:.4f}\\n\")\n",
        "#Оценка модели для Width\n",
        "print(\"Анализ модели для Width:\")\n",
        "print(f\"RMSE на тестовой выборке: {nn_rmse_width:.4f}\")\n",
        "print(f\"Коэффициент детерминации: {nn_r2_width:.4f}\\n\")"
      ],
      "metadata": {
        "colab": {
          "base_uri": "https://localhost:8080/"
        },
        "id": "sEdfxG_ePo22",
        "outputId": "0b3c2352-21b4-458b-ea55-3d8bfeb737bc"
      },
      "execution_count": 366,
      "outputs": [
        {
          "output_type": "stream",
          "name": "stdout",
          "text": [
            "\n",
            "Анализ модели для Depth:\n",
            "RMSE на тестовой выборке: 0.1185\n",
            "Коэффициент детерминации: 0.7584\n",
            "\n",
            "Анализ модели для Width:\n",
            "RMSE на тестовой выборке: 0.0314\n",
            "Коэффициент детерминации: 0.9902\n",
            "\n"
          ]
        }
      ]
    },
    {
      "cell_type": "markdown",
      "source": [
        "###Вывод графиков"
      ],
      "metadata": {
        "id": "ND0sfRk4kz9s"
      }
    },
    {
      "cell_type": "code",
      "source": [
        "#Визуализация результатов\n",
        "plt.figure(figsize=(14, 6))\n",
        "\n",
        "# Для Depth\n",
        "plt.subplot(1, 2, 1)\n",
        "new_var = plt.scatter\n",
        "new_var(y_test_depth, y_pred_depth_nn, alpha=0.6, color='blue')\n",
        "plt.plot([y_test_depth.min(), y_test_depth.max()], [y_test_depth.min(), y_test_depth.max()], 'r--')\n",
        "plt.title('Depth: Neural network vs Actual')\n",
        "plt.xlabel('Actual Depth')\n",
        "plt.ylabel('Predicted Depth')\n",
        "plt.axis('equal')\n",
        "plt.grid()\n",
        "\n",
        "# Для Width\n",
        "plt.subplot(1, 2, 2)\n",
        "plt.scatter(y_test_width, y_pred_width_nn, alpha=0.6, color='green')\n",
        "plt.plot([y_test_width.min(), y_test_width.max()], [y_test_width.min(), y_test_width.max()], 'r--')\n",
        "plt.title('Width: Neural network vs Actual')\n",
        "plt.xlabel('Actual Width')\n",
        "plt.ylabel('Predicted Width')\n",
        "plt.axis('equal')\n",
        "plt.grid()\n",
        "\n",
        "plt.tight_layout()\n",
        "plt.show()"
      ],
      "metadata": {
        "id": "JWBIyGgEkHUO",
        "colab": {
          "base_uri": "https://localhost:8080/",
          "height": 607
        },
        "outputId": "22322369-6a7e-42c4-b37e-770e61af51a0"
      },
      "execution_count": 367,
      "outputs": [
        {
          "output_type": "display_data",
          "data": {
            "text/plain": [
              "<Figure size 1400x600 with 2 Axes>"
            ],
            "image/png": "[encoded data removed]"
          },
          "metadata": {}
        }
      ]
    },
    {
      "cell_type": "markdown",
      "source": [
        "#Сравнение результатов"
      ],
      "metadata": {
        "id": "sn1VOTRC1wcA"
      }
    },
    {
      "cell_type": "markdown",
      "source": [
        "##Import"
      ],
      "metadata": {
        "id": "hWIqw7sj_3O6"
      }
    },
    {
      "cell_type": "code",
      "source": [
        "from tabulate import tabulate"
      ],
      "metadata": {
        "id": "xYCcByK2BM10"
      },
      "execution_count": 368,
      "outputs": []
    },
    {
      "cell_type": "markdown",
      "source": [
        "##Создание датафрейма для анализа значений метрик использованных моделей"
      ],
      "metadata": {
        "id": "VK2Q-6kv_65C"
      }
    },
    {
      "cell_type": "code",
      "source": [
        "data = {\n",
        "    'Модель': ['Линейная регрессия', 'CatBoost', 'Случайный лес', 'Нейронная сеть'],\n",
        "    'RMSE (Depth)': [lr_rmse_depth, cb_rmse_depth, rf_rmse_depth, nn_rmse_depth],\n",
        "    'R2 (Depth)': [lr_r2_depth, cb_r2_depth, rf_r2_depth, nn_r2_depth],\n",
        "    'RMSE CV (Depth)': [lr_rmse_cv_depth, cb_rmse_cv_depth, rf_rmse_cv_depth, None],\n",
        "    'RMSE (Width)': [lr_rmse_width, cb_rmse_width, rf_rmse_width, nn_rmse_width],\n",
        "    'R2 (Width)': [lr_r2_width, cb_r2_width, rf_r2_width, nn_r2_width],\n",
        "    'RMSE CV (Width)': [lr_rmse_cv_width, cb_rmse_cv_width, rf_rmse_cv_width, None],\n",
        "}"
      ],
      "metadata": {
        "id": "3AK_L1nr10XB"
      },
      "execution_count": 369,
      "outputs": []
    },
    {
      "cell_type": "code",
      "source": [
        "# Создание DataFrame\n",
        "results_df = pd.DataFrame(data)"
      ],
      "metadata": {
        "id": "s55JrMMLAIJ6"
      },
      "execution_count": 370,
      "outputs": []
    },
    {
      "cell_type": "code",
      "source": [
        "#Установка отображения с фиксированной шириной\n",
        "pd.set_option('display.width', 1000)\n",
        "pd.set_option('display.max_columns', None)"
      ],
      "metadata": {
        "id": "QwuV0dmBCn9c"
      },
      "execution_count": 371,
      "outputs": []
    },
    {
      "cell_type": "code",
      "source": [
        "# Округление значений до 4 знаков после запятой\n",
        "results_df[['RMSE (Depth)', 'R2 (Depth)', 'RMSE CV (Depth)',\n",
        "            'RMSE (Width)', 'R2 (Width)', 'RMSE CV (Width)']] = results_df[\n",
        "    ['RMSE (Depth)', 'R2 (Depth)', 'RMSE CV (Depth)',\n",
        "     'RMSE (Width)', 'R2 (Width)', 'RMSE CV (Width)']].round(4)"
      ],
      "metadata": {
        "id": "hejErUKCAKpI"
      },
      "execution_count": 372,
      "outputs": []
    },
    {
      "cell_type": "code",
      "source": [
        "# Вывод таблицы\n",
        "print(results_df)"
      ],
      "metadata": {
        "colab": {
          "base_uri": "https://localhost:8080/"
        },
        "id": "tJyQp5RPC7Hh",
        "outputId": "80431df6-0349-4112-cf60-1f57eca4e6d6"
      },
      "execution_count": 373,
      "outputs": [
        {
          "output_type": "stream",
          "name": "stdout",
          "text": [
            "               Модель  RMSE (Depth)  R2 (Depth)  RMSE CV (Depth)  RMSE (Width)  R2 (Width)  RMSE CV (Width)\n",
            "0  Линейная регрессия        0.1698      0.6154            0.102        0.0521      0.9771           0.0827\n",
            "1            CatBoost        0.0942      0.8817            0.088        0.0458      0.9823           0.0644\n",
            "2       Случайный лес        0.1006      0.8650            0.085        0.0503      0.9787           0.0693\n",
            "3      Нейронная сеть        0.1185      0.7584              NaN        0.0314      0.9902              NaN\n"
          ]
        }
      ]
    },
    {
      "cell_type": "markdown",
      "source": [
        "##Сортировка и определение лучшей модели по показателям"
      ],
      "metadata": {
        "id": "HDZYoL-sEFnx"
      }
    },
    {
      "cell_type": "code",
      "source": [
        "#Сортировка по RMSE и R² для Depth\n",
        "sorted_rmse_depth = results_df[['Модель', 'RMSE (Depth)']].sort_values(by='RMSE (Depth)')\n",
        "sorted_r2_depth = results_df[['Модель', 'R2 (Depth)']].sort_values(by='R2 (Depth)', ascending=False)"
      ],
      "metadata": {
        "id": "hEAO7nHvBasT"
      },
      "execution_count": 374,
      "outputs": []
    },
    {
      "cell_type": "code",
      "source": [
        "#Объединение отсортированных значений для Depth\n",
        "final_sorted_df_depth = sorted_rmse_depth.merge(sorted_r2_depth, on='Модель', suffixes=('_RMSE', '_R2'))"
      ],
      "metadata": {
        "id": "H-ege9QREfCk"
      },
      "execution_count": 375,
      "outputs": []
    },
    {
      "cell_type": "code",
      "source": [
        "#Сортировка по RMSE и R² для Width\n",
        "sorted_rmse_width = results_df[['Модель', 'RMSE (Width)']].sort_values(by='RMSE (Width)')\n",
        "sorted_r2_width = results_df[['Модель', 'R2 (Width)']].sort_values(by='R2 (Width)', ascending=False)"
      ],
      "metadata": {
        "id": "f_QeffkPEWck"
      },
      "execution_count": 376,
      "outputs": []
    },
    {
      "cell_type": "code",
      "source": [
        "#Объединение отсортированных значений для Width\n",
        "final_sorted_df_width = sorted_rmse_width.merge(sorted_r2_width, on='Модель', suffixes=('_RMSE', '_R2'))"
      ],
      "metadata": {
        "id": "9flxWEBlElUZ"
      },
      "execution_count": 377,
      "outputs": []
    },
    {
      "cell_type": "code",
      "source": [
        "#Вывод таблицы результатов для Depth\n",
        "print(\"Таблица результатов для Depth:\")\n",
        "print(tabulate(final_sorted_df_depth, headers='keys', tablefmt='psql', showindex=False))\n",
        "best_model_rmse_depth = final_sorted_df_depth.iloc[0]['Модель']\n",
        "best_model_r2_depth = final_sorted_df_depth.sort_values(by='R2 (Depth)', ascending=False).iloc[0]['Модель']\n",
        "print(f\"\\nЛучшая модель по RMSE для Depth: {best_model_rmse_depth}\")\n",
        "print(f\"Лучшая модель по R² для Depth: {best_model_r2_depth}\\n\")"
      ],
      "metadata": {
        "colab": {
          "base_uri": "https://localhost:8080/"
        },
        "id": "ItfKfu1zEtT1",
        "outputId": "e035d77c-86ea-4101-f267-14022f14bdbe"
      },
      "execution_count": 378,
      "outputs": [
        {
          "output_type": "stream",
          "name": "stdout",
          "text": [
            "Таблица результатов для Depth:\n",
            "+--------------------+----------------+--------------+\n",
            "| Модель             |   RMSE (Depth) |   R2 (Depth) |\n",
            "|--------------------+----------------+--------------|\n",
            "| CatBoost           |         0.0942 |       0.8817 |\n",
            "| Случайный лес      |         0.1006 |       0.865  |\n",
            "| Нейронная сеть     |         0.1185 |       0.7584 |\n",
            "| Линейная регрессия |         0.1698 |       0.6154 |\n",
            "+--------------------+----------------+--------------+\n",
            "\n",
            "Лучшая модель по RMSE для Depth: CatBoost\n",
            "Лучшая модель по R² для Depth: CatBoost\n",
            "\n"
          ]
        }
      ]
    },
    {
      "cell_type": "code",
      "source": [
        "#Вывод таблицы результатов для Width\n",
        "print(\"Таблица результатов для Width:\")\n",
        "print(tabulate(final_sorted_df_width, headers='keys', tablefmt='psql', showindex=False))\n",
        "best_model_rmse_width = final_sorted_df_width.iloc[0]['Модель']\n",
        "best_model_r2_width = final_sorted_df_width.sort_values(by='R2 (Width)', ascending=False).iloc[0]['Модель']\n",
        "print(f\"\\nЛучшая модель по RMSE для Width: {best_model_rmse_width}\")\n",
        "print(f\"Лучшая модель по R² для Width: {best_model_r2_width}\\n\")"
      ],
      "metadata": {
        "colab": {
          "base_uri": "https://localhost:8080/"
        },
        "id": "tCQVershEzsX",
        "outputId": "a598c33a-b04a-4a20-861b-50108e0e16f3"
      },
      "execution_count": 379,
      "outputs": [
        {
          "output_type": "stream",
          "name": "stdout",
          "text": [
            "Таблица результатов для Width:\n",
            "+--------------------+----------------+--------------+\n",
            "| Модель             |   RMSE (Width) |   R2 (Width) |\n",
            "|--------------------+----------------+--------------|\n",
            "| Нейронная сеть     |         0.0314 |       0.9902 |\n",
            "| CatBoost           |         0.0458 |       0.9823 |\n",
            "| Случайный лес      |         0.0503 |       0.9787 |\n",
            "| Линейная регрессия |         0.0521 |       0.9771 |\n",
            "+--------------------+----------------+--------------+\n",
            "\n",
            "Лучшая модель по RMSE для Width: Нейронная сеть\n",
            "Лучшая модель по R² для Width: Нейронная сеть\n",
            "\n"
          ]
        }
      ]
    },
    {
      "cell_type": "markdown",
      "source": [
        "##Визуализация в виде графиков"
      ],
      "metadata": {
        "id": "SbFFVUJ-JijQ"
      }
    },
    {
      "cell_type": "code",
      "source": [
        "#Преобразование в формат для Seaborn\n",
        "df_melted_rmse = results_df.melt(id_vars='Модель', value_vars=['RMSE (Depth)', 'RMSE (Width)'], var_name='Тип', value_name='RMSE')\n",
        "df_melted_r2 = results_df.melt(id_vars='Модель', value_vars=['R2 (Depth)', 'R2 (Width)'], var_name='Тип', value_name='R2')"
      ],
      "metadata": {
        "id": "utF71j8uCs5z"
      },
      "execution_count": 380,
      "outputs": []
    },
    {
      "cell_type": "code",
      "source": [
        "#Визуализация результатов\n",
        "plt.figure(figsize=(12, 6))\n",
        "\n",
        "#График RMSE\n",
        "plt.subplot(1, 2, 1)\n",
        "sns.barplot(data=df_melted_rmse, x='Модель', y='RMSE', hue='Тип', palette='Blues')\n",
        "plt.title('RMSE моделей')\n",
        "plt.xticks(rotation=45)\n",
        "\n",
        "#График R2\n",
        "plt.subplot(1, 2, 2)\n",
        "sns.barplot(data=df_melted_r2, x='Модель', y='R2', hue='Тип', palette='Greens')\n",
        "plt.title('R2 моделей')\n",
        "plt.xticks(rotation=45)\n",
        "\n",
        "plt.tight_layout()\n",
        "plt.show()"
      ],
      "metadata": {
        "colab": {
          "base_uri": "https://localhost:8080/",
          "height": 607
        },
        "id": "dKAWfkvvJmq9",
        "outputId": "16802ebf-145f-4c53-dead-a80eb1d59af5"
      },
      "execution_count": 381,
      "outputs": [
        {
          "output_type": "display_data",
          "data": {
            "text/plain": [
              "<Figure size 1200x600 with 2 Axes>"
            ],
            "image/png": "[encoded data removed]"
          },
          "metadata": {}
        }
      ]
    },
    {
      "cell_type": "markdown",
      "source": [
        "#Выводы"
      ],
      "metadata": {
        "id": "2kcYmvLEJ-Sl"
      }
    },
    {
      "cell_type": "markdown",
      "source": [
        "Для решения задачи регрессии для предсказания предсказания глубины и ширины сварного соединения были использованы следующие модели:\n",
        "1. Линейная регрессия\n",
        "2. Регрессия с помощью библиотеки CatBoost\n",
        "3. Случайный лес\n",
        "4. Нейронная сеть"
      ],
      "metadata": {
        "id": "hHRdA461SIpK"
      }
    },
    {
      "cell_type": "markdown",
      "source": [
        "Для каждой модели были вычислены значения метрик RMSE и R², составлена таблица значений и отсортирована. Для первых трёх моделей была проведена кросс-валидация и вычислено также RMSE для неё. В результате сопоставления результатов было выявлено следующее:\n",
        "* Лучшей моделью для выявления значений глубины является регрессия CatBoot.\n",
        "* Лучшей моделью для выявления значений ширины является нейронная сеть. Однако нейронная сеть при переобучении иногда выдавала метрики, говорящие о более низком качестве, следующей моделью по качеству метрик является также регрессия CatBoot.\n",
        "* Метод случайного леса показывает хороший стабильный результат для обоих искомых параметров.\n",
        "* Линейная регрессия показывает средние результаты."
      ],
      "metadata": {
        "id": "a48dFD-DSlDy"
      }
    },
    {
      "cell_type": "markdown",
      "source": [
        "Для улучшения качества работ моделей можно:\n",
        "* использование комбинаций моделей (например, методы бэггинга и бустинга);\n",
        "* эксперименты с гиперпараметрами моделей для повышения их производительности;\n",
        "* расширение датасета дополнительными реальными или синтетическими значениями."
      ],
      "metadata": {
        "id": "uNFnWXfJW68J"
      }
    }
  ]
}